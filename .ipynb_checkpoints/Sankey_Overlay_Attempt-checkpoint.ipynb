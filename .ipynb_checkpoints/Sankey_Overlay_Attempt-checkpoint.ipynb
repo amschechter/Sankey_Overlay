{
 "cells": [
  {
   "cell_type": "markdown",
   "id": "c515f8cc-38bd-49dd-acda-e8c3aeb8f3cd",
   "metadata": {},
   "source": [
    "#### Gonna try something epic here\n",
    "\n",
    "My idea is to create a function/script/ability to overlay a sankey diagram over a bus route to represent the ons/offs and current passenger load, all while being displayed on the map. Hopefully would include hover/tooltip capabilities as well. IDK really how I will start but heres to trying"
   ]
  },
  {
   "cell_type": "markdown",
   "id": "067c1903-bd13-4e18-938f-4ec2e9802e65",
   "metadata": {},
   "source": [
    "I will try initially to use the E line to do this. I already have the segment data which will be helpful but the main reason I am using the eline data is that it is mostly straight!! This will help as I am developing for a few reasons."
   ]
  },
  {
   "cell_type": "markdown",
   "id": "34a5ba2d-923b-4950-8993-8352ca568390",
   "metadata": {},
   "source": [
    "##### Relevant resources \n",
    "\n",
    "https://python-visualization.github.io/folium   ---> folium docs"
   ]
  },
  {
   "cell_type": "code",
   "execution_count": 1,
   "id": "aaba5594-885d-4191-a612-378df557abf9",
   "metadata": {},
   "outputs": [],
   "source": [
    "### Gonna start with the imports. Nothing weird don't freak out.\n",
    "import pandas as pd\n",
    "import geopandas as gpd\n",
    "import numpy as np\n",
    "import shapely\n",
    "\n",
    "import folium\n",
    "import json\n",
    "import branca.colormap as cm\n",
    "\n",
    "pd.set_option('display.max_columns', None) ### This line makes all the columns display, rather than ellipses shorten"
   ]
  },
  {
   "cell_type": "code",
   "execution_count": 2,
   "id": "6874a700-9371-4281-975b-9e32c912dbc8",
   "metadata": {},
   "outputs": [],
   "source": [
    "### import the e line data with segments\n",
    "\n",
    "kcm_segment_data = \"C:/Users/aaron/CoreGIS_Work/CoreGIS Work Sync/COREGIS_work/RapidRide E/Data/Source/Transit_Routes_for_King_County_Metro___transitroute_line\"\n",
    "kcm_point_data = \"C:/Users/aaron/CoreGIS_Work/CoreGIS Work Sync/COREGIS_work/RapidRide E/Data/Source/Transit_Stops_for_King_County_Metro___transitstop_point\"\n",
    "\n",
    "all_kcm_segment_data = gpd.read_file(kcm_segment_data)\n",
    "all_kcm_point_data = gpd.read_file(kcm_point_data)\n"
   ]
  },
  {
   "cell_type": "code",
   "execution_count": 3,
   "id": "4dfc518e-8be0-4cd6-adb1-327e2c6a8f78",
   "metadata": {},
   "outputs": [],
   "source": [
    "### gonnna fabricate some data about the ons/offs/avg departing load. This isn't about reflecting reality at the current moment\n",
    "## Stop list, south to north --> [7690, 7710, 7730, 7750, 7770, 7790, 7810, 7850]\n",
    "\n",
    "##completely made up\n",
    "## starting_stop_num: [boardings, alightings]\n",
    "\n",
    "#type = dict\n",
    "ridership_data = {\n",
    "    7690: [12, 0],\n",
    "    7710: [14, 6],\n",
    "    7730: [13, 2],\n",
    "    7750: [5, 20],\n",
    "    7770: [8, 6],\n",
    "    7790: [10, 14],\n",
    "    7810: [3, 6],\n",
    "    7850: [2, 7],\n",
    "    7880: [1, 6]\n",
    "}\n",
    "\n"
   ]
  },
  {
   "cell_type": "code",
   "execution_count": 4,
   "id": "0b63eff7-1ce1-4547-824e-4a9727265cb9",
   "metadata": {},
   "outputs": [],
   "source": [
    "### compiling a list of stops that I will use for this experiment. Mostly in a straight line and not too many of them.\n",
    "#e_line_northbound_stop_list = [7690, 7710, 7730, 7750, 7770, 7790, 7810, 7850, 7880]\n",
    "e_line_northbound_stop_list = list(ridership_data.keys())\n",
    "\n",
    "\n",
    "e_line_northbound_stops = all_kcm_point_data[all_kcm_point_data['STOP_ID'].isin(e_line_northbound_stop_list)]\n",
    "e_line_northbound_stops = e_line_northbound_stops[e_line_northbound_stops['CURRENT_NE'] == 'IN SERVICE'] ## eliminating 3X stops\n"
   ]
  },
  {
   "cell_type": "code",
   "execution_count": 5,
   "id": "d96033c4-9c71-40f5-be60-6538152a3130",
   "metadata": {},
   "outputs": [],
   "source": [
    "e_line_full_segment = all_kcm_segment_data[all_kcm_segment_data['ROUTE_NUM'] == 675] ##675 is the E line's route number"
   ]
  },
  {
   "cell_type": "code",
   "execution_count": 6,
   "id": "c52cc01f-d1f2-4415-96b4-e2ed0a2a7a30",
   "metadata": {},
   "outputs": [],
   "source": [
    "#e_line_northbound_stops.explore()"
   ]
  },
  {
   "cell_type": "markdown",
   "id": "2a9f6a27-c9fa-49e6-82e9-e57aad357205",
   "metadata": {},
   "source": [
    "### Ridership data stuffs"
   ]
  },
  {
   "cell_type": "code",
   "execution_count": 7,
   "id": "b0116670-3296-4581-aab6-90b1c5f2645d",
   "metadata": {},
   "outputs": [],
   "source": [
    "### This cell calculates the departing load from every stop!\n",
    "departing_load = 0\n",
    "\n",
    "for stop_num in ridership_data.keys():    \n",
    "    current_boardings = ridership_data[stop_num][0]\n",
    "    current_alightings = ridership_data[stop_num][1]\n",
    "\n",
    "    departing_load = departing_load + current_boardings - current_alightings\n",
    "\n",
    "    ridership_data[stop_num].append(departing_load)\n",
    "    #print (f\"stop_num - {stop_num}, current_boardings - {current_boardings}, current_alightings - {current_alightings}, departing_load - {departing_load}\")"
   ]
  },
  {
   "cell_type": "markdown",
   "id": "5da79366-4e1b-4b0e-bc60-28361cadb242",
   "metadata": {},
   "source": [
    "### Now its time to try and draw a line between each stop"
   ]
  },
  {
   "cell_type": "code",
   "execution_count": 8,
   "id": "0a85a74f-34ae-4034-a28d-d38447ab814d",
   "metadata": {},
   "outputs": [],
   "source": [
    "### make a function enabling the #shortest_line function to work with just two points.\n",
    "\n",
    "def shortest_line_between(geom1, geom2):\n",
    "    return gpd.GeoSeries([geom1]).shortest_line(gpd.GeoSeries([geom2])).iloc[0]\n"
   ]
  },
  {
   "cell_type": "code",
   "execution_count": 9,
   "id": "a9f92568-4684-4f77-ae13-d088fe09355f",
   "metadata": {},
   "outputs": [],
   "source": [
    "### generate a list of stops \n",
    "stop_geometry_dict = {}\n",
    "for i in range(len(ridership_data.keys())):\n",
    "    stop_geometry_dict[f\"stop_number_{i+1}_geo\"] = e_line_northbound_stops.iloc[i]['geometry']"
   ]
  },
  {
   "cell_type": "code",
   "execution_count": 10,
   "id": "90cf7f63-0baf-4edc-a9de-98f1a8056564",
   "metadata": {},
   "outputs": [],
   "source": [
    "#segment_dictionary\n",
    "\n",
    "num_stops = len(stop_geometry_dict)\n",
    "\n",
    "segment_dict = {}\n",
    "\n",
    "for j in range(0, num_stops-1):\n",
    "    segment_dict[f\"segment_{j+1}\"] = shortest_line_between(stop_geometry_dict[f\"stop_number_{j+1}_geo\"], stop_geometry_dict[f\"stop_number_{j+2}_geo\"])"
   ]
  },
  {
   "cell_type": "code",
   "execution_count": 11,
   "id": "4ae3303b-5dfe-4c1e-aba8-2ecde8af6eda",
   "metadata": {},
   "outputs": [
    {
     "data": {
      "text/plain": [
       "18"
      ]
     },
     "execution_count": 11,
     "metadata": {},
     "output_type": "execute_result"
    }
   ],
   "source": [
    "ridership_data[7770][2]"
   ]
  },
  {
   "cell_type": "code",
   "execution_count": 12,
   "id": "ac3ce7c3-e931-40aa-82a4-ea2d8d0fe825",
   "metadata": {},
   "outputs": [],
   "source": [
    "num_segments = len(segment_dict)\n",
    "\n",
    "segment_gdf = gpd.GeoDataFrame(\n",
    "                                {'starting_stop_id': e_line_northbound_stop_list[:num_segments],\n",
    "                                'ridership_data_dict':[ridership_data[stop_id] for stop_id in e_line_northbound_stop_list[:num_segments]],\n",
    "                                'geometry': [segment_dict[f\"segment_{id + 1}\"] for id in range(num_segments)]},\n",
    "                                geometry = 'geometry', crs = \"EPSG:2926\"\n",
    "                              )\n"
   ]
  },
  {
   "cell_type": "code",
   "execution_count": 13,
   "id": "ded8cda7-ccc8-4fcb-bf7e-f65bc85abecb",
   "metadata": {},
   "outputs": [
    {
     "data": {
      "text/html": [
       "<div>\n",
       "<style scoped>\n",
       "    .dataframe tbody tr th:only-of-type {\n",
       "        vertical-align: middle;\n",
       "    }\n",
       "\n",
       "    .dataframe tbody tr th {\n",
       "        vertical-align: top;\n",
       "    }\n",
       "\n",
       "    .dataframe thead th {\n",
       "        text-align: right;\n",
       "    }\n",
       "</style>\n",
       "<table border=\"1\" class=\"dataframe\">\n",
       "  <thead>\n",
       "    <tr style=\"text-align: right;\">\n",
       "      <th></th>\n",
       "      <th>starting_stop_id</th>\n",
       "      <th>ridership_data_dict</th>\n",
       "      <th>geometry</th>\n",
       "    </tr>\n",
       "  </thead>\n",
       "  <tbody>\n",
       "    <tr>\n",
       "      <th>0</th>\n",
       "      <td>7690</td>\n",
       "      <td>[12, 0, 12]</td>\n",
       "      <td>LINESTRING (1268255 253055, 1268277 254342.3)</td>\n",
       "    </tr>\n",
       "    <tr>\n",
       "      <th>1</th>\n",
       "      <td>7710</td>\n",
       "      <td>[14, 6, 20]</td>\n",
       "      <td>LINESTRING (1268277 254342.3, 1268298 255739.1)</td>\n",
       "    </tr>\n",
       "    <tr>\n",
       "      <th>2</th>\n",
       "      <td>7730</td>\n",
       "      <td>[13, 2, 31]</td>\n",
       "      <td>LINESTRING (1268298 255739.1, 1268313 257094.7)</td>\n",
       "    </tr>\n",
       "    <tr>\n",
       "      <th>3</th>\n",
       "      <td>7750</td>\n",
       "      <td>[5, 20, 16]</td>\n",
       "      <td>LINESTRING (1268313 257094.7, 1268312 258317.8)</td>\n",
       "    </tr>\n",
       "    <tr>\n",
       "      <th>4</th>\n",
       "      <td>7770</td>\n",
       "      <td>[8, 6, 18]</td>\n",
       "      <td>LINESTRING (1268312 258317.8, 1268343 259603.1)</td>\n",
       "    </tr>\n",
       "    <tr>\n",
       "      <th>5</th>\n",
       "      <td>7790</td>\n",
       "      <td>[10, 14, 14]</td>\n",
       "      <td>LINESTRING (1268343 259603.1, 1268358 260977.2)</td>\n",
       "    </tr>\n",
       "    <tr>\n",
       "      <th>6</th>\n",
       "      <td>7810</td>\n",
       "      <td>[3, 6, 11]</td>\n",
       "      <td>LINESTRING (1268358 260977.2, 1268366 263636)</td>\n",
       "    </tr>\n",
       "    <tr>\n",
       "      <th>7</th>\n",
       "      <td>7850</td>\n",
       "      <td>[2, 7, 6]</td>\n",
       "      <td>LINESTRING (1268366 263636, 1268386 266091.6)</td>\n",
       "    </tr>\n",
       "  </tbody>\n",
       "</table>\n",
       "</div>"
      ],
      "text/plain": [
       "   starting_stop_id ridership_data_dict  \\\n",
       "0              7690         [12, 0, 12]   \n",
       "1              7710         [14, 6, 20]   \n",
       "2              7730         [13, 2, 31]   \n",
       "3              7750         [5, 20, 16]   \n",
       "4              7770          [8, 6, 18]   \n",
       "5              7790        [10, 14, 14]   \n",
       "6              7810          [3, 6, 11]   \n",
       "7              7850           [2, 7, 6]   \n",
       "\n",
       "                                          geometry  \n",
       "0    LINESTRING (1268255 253055, 1268277 254342.3)  \n",
       "1  LINESTRING (1268277 254342.3, 1268298 255739.1)  \n",
       "2  LINESTRING (1268298 255739.1, 1268313 257094.7)  \n",
       "3  LINESTRING (1268313 257094.7, 1268312 258317.8)  \n",
       "4  LINESTRING (1268312 258317.8, 1268343 259603.1)  \n",
       "5  LINESTRING (1268343 259603.1, 1268358 260977.2)  \n",
       "6    LINESTRING (1268358 260977.2, 1268366 263636)  \n",
       "7    LINESTRING (1268366 263636, 1268386 266091.6)  "
      ]
     },
     "execution_count": 13,
     "metadata": {},
     "output_type": "execute_result"
    }
   ],
   "source": [
    "segment_gdf"
   ]
  },
  {
   "cell_type": "code",
   "execution_count": 14,
   "id": "32428d7c-9dae-4d4b-b1bb-a7000418dd2e",
   "metadata": {},
   "outputs": [],
   "source": [
    "avg_ons_list = []\n",
    "avg_offs_list = []\n",
    "avg_load_list = []\n",
    "\n",
    "for i in range(len(segment_gdf)):\n",
    "    value_trio = segment_gdf['ridership_data_dict'][i]\n",
    "    avg_ons_list.append(value_trio[0])\n",
    "    avg_offs_list.append(value_trio[1])\n",
    "    avg_load_list.append(value_trio[2])\n",
    "\n",
    "\n"
   ]
  },
  {
   "cell_type": "code",
   "execution_count": 15,
   "id": "cd53b568-1489-4472-ba0a-4f07c3139b31",
   "metadata": {},
   "outputs": [],
   "source": [
    "segment_gdf[\"boardings\"] = avg_ons_list\n",
    "segment_gdf[\"alightings\"] = avg_offs_list\n",
    "segment_gdf[\"departing_load\"] = avg_load_list"
   ]
  },
  {
   "cell_type": "code",
   "execution_count": 16,
   "id": "db9f1a32-eefc-4151-a8d1-cdd7e031173e",
   "metadata": {},
   "outputs": [
    {
     "data": {
      "text/html": [
       "<div>\n",
       "<style scoped>\n",
       "    .dataframe tbody tr th:only-of-type {\n",
       "        vertical-align: middle;\n",
       "    }\n",
       "\n",
       "    .dataframe tbody tr th {\n",
       "        vertical-align: top;\n",
       "    }\n",
       "\n",
       "    .dataframe thead th {\n",
       "        text-align: right;\n",
       "    }\n",
       "</style>\n",
       "<table border=\"1\" class=\"dataframe\">\n",
       "  <thead>\n",
       "    <tr style=\"text-align: right;\">\n",
       "      <th></th>\n",
       "      <th>starting_stop_id</th>\n",
       "      <th>ridership_data_dict</th>\n",
       "      <th>geometry</th>\n",
       "      <th>boardings</th>\n",
       "      <th>alightings</th>\n",
       "      <th>departing_load</th>\n",
       "    </tr>\n",
       "  </thead>\n",
       "  <tbody>\n",
       "    <tr>\n",
       "      <th>0</th>\n",
       "      <td>7690</td>\n",
       "      <td>[12, 0, 12]</td>\n",
       "      <td>LINESTRING (1268255 253055, 1268277 254342.3)</td>\n",
       "      <td>12</td>\n",
       "      <td>0</td>\n",
       "      <td>12</td>\n",
       "    </tr>\n",
       "    <tr>\n",
       "      <th>1</th>\n",
       "      <td>7710</td>\n",
       "      <td>[14, 6, 20]</td>\n",
       "      <td>LINESTRING (1268277 254342.3, 1268298 255739.1)</td>\n",
       "      <td>14</td>\n",
       "      <td>6</td>\n",
       "      <td>20</td>\n",
       "    </tr>\n",
       "    <tr>\n",
       "      <th>2</th>\n",
       "      <td>7730</td>\n",
       "      <td>[13, 2, 31]</td>\n",
       "      <td>LINESTRING (1268298 255739.1, 1268313 257094.7)</td>\n",
       "      <td>13</td>\n",
       "      <td>2</td>\n",
       "      <td>31</td>\n",
       "    </tr>\n",
       "    <tr>\n",
       "      <th>3</th>\n",
       "      <td>7750</td>\n",
       "      <td>[5, 20, 16]</td>\n",
       "      <td>LINESTRING (1268313 257094.7, 1268312 258317.8)</td>\n",
       "      <td>5</td>\n",
       "      <td>20</td>\n",
       "      <td>16</td>\n",
       "    </tr>\n",
       "    <tr>\n",
       "      <th>4</th>\n",
       "      <td>7770</td>\n",
       "      <td>[8, 6, 18]</td>\n",
       "      <td>LINESTRING (1268312 258317.8, 1268343 259603.1)</td>\n",
       "      <td>8</td>\n",
       "      <td>6</td>\n",
       "      <td>18</td>\n",
       "    </tr>\n",
       "    <tr>\n",
       "      <th>5</th>\n",
       "      <td>7790</td>\n",
       "      <td>[10, 14, 14]</td>\n",
       "      <td>LINESTRING (1268343 259603.1, 1268358 260977.2)</td>\n",
       "      <td>10</td>\n",
       "      <td>14</td>\n",
       "      <td>14</td>\n",
       "    </tr>\n",
       "    <tr>\n",
       "      <th>6</th>\n",
       "      <td>7810</td>\n",
       "      <td>[3, 6, 11]</td>\n",
       "      <td>LINESTRING (1268358 260977.2, 1268366 263636)</td>\n",
       "      <td>3</td>\n",
       "      <td>6</td>\n",
       "      <td>11</td>\n",
       "    </tr>\n",
       "    <tr>\n",
       "      <th>7</th>\n",
       "      <td>7850</td>\n",
       "      <td>[2, 7, 6]</td>\n",
       "      <td>LINESTRING (1268366 263636, 1268386 266091.6)</td>\n",
       "      <td>2</td>\n",
       "      <td>7</td>\n",
       "      <td>6</td>\n",
       "    </tr>\n",
       "  </tbody>\n",
       "</table>\n",
       "</div>"
      ],
      "text/plain": [
       "   starting_stop_id ridership_data_dict  \\\n",
       "0              7690         [12, 0, 12]   \n",
       "1              7710         [14, 6, 20]   \n",
       "2              7730         [13, 2, 31]   \n",
       "3              7750         [5, 20, 16]   \n",
       "4              7770          [8, 6, 18]   \n",
       "5              7790        [10, 14, 14]   \n",
       "6              7810          [3, 6, 11]   \n",
       "7              7850           [2, 7, 6]   \n",
       "\n",
       "                                          geometry  boardings  alightings  \\\n",
       "0    LINESTRING (1268255 253055, 1268277 254342.3)         12           0   \n",
       "1  LINESTRING (1268277 254342.3, 1268298 255739.1)         14           6   \n",
       "2  LINESTRING (1268298 255739.1, 1268313 257094.7)         13           2   \n",
       "3  LINESTRING (1268313 257094.7, 1268312 258317.8)          5          20   \n",
       "4  LINESTRING (1268312 258317.8, 1268343 259603.1)          8           6   \n",
       "5  LINESTRING (1268343 259603.1, 1268358 260977.2)         10          14   \n",
       "6    LINESTRING (1268358 260977.2, 1268366 263636)          3           6   \n",
       "7    LINESTRING (1268366 263636, 1268386 266091.6)          2           7   \n",
       "\n",
       "   departing_load  \n",
       "0              12  \n",
       "1              20  \n",
       "2              31  \n",
       "3              16  \n",
       "4              18  \n",
       "5              14  \n",
       "6              11  \n",
       "7               6  "
      ]
     },
     "execution_count": 16,
     "metadata": {},
     "output_type": "execute_result"
    }
   ],
   "source": [
    "segment_gdf"
   ]
  },
  {
   "cell_type": "markdown",
   "id": "445e1e9a-69fa-4577-8d2f-ad51797015fd",
   "metadata": {},
   "source": [
    "### Ok Now the GDF is sorta done..... lets make a map!!"
   ]
  },
  {
   "cell_type": "code",
   "execution_count": 17,
   "id": "035dc346-30dc-4eba-b927-1c945ee0a3cf",
   "metadata": {},
   "outputs": [],
   "source": [
    "def color_function(feature):\n",
    "    departing_load = features[\"properties\"][\"departing_load\"]\n",
    "    if (departing_load > 10):\n",
    "        return \"#ff0000\"\n",
    "    else:\n",
    "        return \"#008000\""
   ]
  },
  {
   "cell_type": "code",
   "execution_count": 18,
   "id": "041ea5e5-422f-49ac-8aeb-a1cd01f0d4f2",
   "metadata": {},
   "outputs": [
    {
     "data": {
      "text/html": [
       "<svg height=\"40\" width=\"450\"><line x1=\"0\" y1=\"15\" x2=\"0\" y2=\"27\" style=\"stroke:#d73027ff;stroke-width:2;\" /><line x1=\"1\" y1=\"15\" x2=\"1\" y2=\"27\" style=\"stroke:#d73027ff;stroke-width:2;\" /><line x1=\"2\" y1=\"15\" x2=\"2\" y2=\"27\" style=\"stroke:#d73027ff;stroke-width:2;\" /><line x1=\"3\" y1=\"15\" x2=\"3\" y2=\"27\" style=\"stroke:#d73027ff;stroke-width:2;\" /><line x1=\"4\" y1=\"15\" x2=\"4\" y2=\"27\" style=\"stroke:#d73027ff;stroke-width:2;\" /><line x1=\"5\" y1=\"15\" x2=\"5\" y2=\"27\" style=\"stroke:#d73027ff;stroke-width:2;\" /><line x1=\"6\" y1=\"15\" x2=\"6\" y2=\"27\" style=\"stroke:#d73027ff;stroke-width:2;\" /><line x1=\"7\" y1=\"15\" x2=\"7\" y2=\"27\" style=\"stroke:#d73027ff;stroke-width:2;\" /><line x1=\"8\" y1=\"15\" x2=\"8\" y2=\"27\" style=\"stroke:#d73027ff;stroke-width:2;\" /><line x1=\"9\" y1=\"15\" x2=\"9\" y2=\"27\" style=\"stroke:#d73027ff;stroke-width:2;\" /><line x1=\"10\" y1=\"15\" x2=\"10\" y2=\"27\" style=\"stroke:#d73027ff;stroke-width:2;\" /><line x1=\"11\" y1=\"15\" x2=\"11\" y2=\"27\" style=\"stroke:#d73027ff;stroke-width:2;\" /><line x1=\"12\" y1=\"15\" x2=\"12\" y2=\"27\" style=\"stroke:#d73027ff;stroke-width:2;\" /><line x1=\"13\" y1=\"15\" x2=\"13\" y2=\"27\" style=\"stroke:#d73027ff;stroke-width:2;\" /><line x1=\"14\" y1=\"15\" x2=\"14\" y2=\"27\" style=\"stroke:#d73027ff;stroke-width:2;\" /><line x1=\"15\" y1=\"15\" x2=\"15\" y2=\"27\" style=\"stroke:#d73027ff;stroke-width:2;\" /><line x1=\"16\" y1=\"15\" x2=\"16\" y2=\"27\" style=\"stroke:#d73027ff;stroke-width:2;\" /><line x1=\"17\" y1=\"15\" x2=\"17\" y2=\"27\" style=\"stroke:#d73027ff;stroke-width:2;\" /><line x1=\"18\" y1=\"15\" x2=\"18\" y2=\"27\" style=\"stroke:#d73027ff;stroke-width:2;\" /><line x1=\"19\" y1=\"15\" x2=\"19\" y2=\"27\" style=\"stroke:#d73027ff;stroke-width:2;\" /><line x1=\"20\" y1=\"15\" x2=\"20\" y2=\"27\" style=\"stroke:#d73027ff;stroke-width:2;\" /><line x1=\"21\" y1=\"15\" x2=\"21\" y2=\"27\" style=\"stroke:#d73027ff;stroke-width:2;\" /><line x1=\"22\" y1=\"15\" x2=\"22\" y2=\"27\" style=\"stroke:#d73027ff;stroke-width:2;\" /><line x1=\"23\" y1=\"15\" x2=\"23\" y2=\"27\" style=\"stroke:#d73027ff;stroke-width:2;\" /><line x1=\"24\" y1=\"15\" x2=\"24\" y2=\"27\" style=\"stroke:#d73027ff;stroke-width:2;\" /><line x1=\"25\" y1=\"15\" x2=\"25\" y2=\"27\" style=\"stroke:#d73027ff;stroke-width:2;\" /><line x1=\"26\" y1=\"15\" x2=\"26\" y2=\"27\" style=\"stroke:#d73027ff;stroke-width:2;\" /><line x1=\"27\" y1=\"15\" x2=\"27\" y2=\"27\" style=\"stroke:#d73027ff;stroke-width:2;\" /><line x1=\"28\" y1=\"15\" x2=\"28\" y2=\"27\" style=\"stroke:#d73027ff;stroke-width:2;\" /><line x1=\"29\" y1=\"15\" x2=\"29\" y2=\"27\" style=\"stroke:#d73027ff;stroke-width:2;\" /><line x1=\"30\" y1=\"15\" x2=\"30\" y2=\"27\" style=\"stroke:#d73027ff;stroke-width:2;\" /><line x1=\"31\" y1=\"15\" x2=\"31\" y2=\"27\" style=\"stroke:#d73027ff;stroke-width:2;\" /><line x1=\"32\" y1=\"15\" x2=\"32\" y2=\"27\" style=\"stroke:#d73027ff;stroke-width:2;\" /><line x1=\"33\" y1=\"15\" x2=\"33\" y2=\"27\" style=\"stroke:#d73027ff;stroke-width:2;\" /><line x1=\"34\" y1=\"15\" x2=\"34\" y2=\"27\" style=\"stroke:#d73027ff;stroke-width:2;\" /><line x1=\"35\" y1=\"15\" x2=\"35\" y2=\"27\" style=\"stroke:#d73027ff;stroke-width:2;\" /><line x1=\"36\" y1=\"15\" x2=\"36\" y2=\"27\" style=\"stroke:#d73027ff;stroke-width:2;\" /><line x1=\"37\" y1=\"15\" x2=\"37\" y2=\"27\" style=\"stroke:#d73027ff;stroke-width:2;\" /><line x1=\"38\" y1=\"15\" x2=\"38\" y2=\"27\" style=\"stroke:#d73027ff;stroke-width:2;\" /><line x1=\"39\" y1=\"15\" x2=\"39\" y2=\"27\" style=\"stroke:#d73027ff;stroke-width:2;\" /><line x1=\"40\" y1=\"15\" x2=\"40\" y2=\"27\" style=\"stroke:#d73027ff;stroke-width:2;\" /><line x1=\"41\" y1=\"15\" x2=\"41\" y2=\"27\" style=\"stroke:#d73027ff;stroke-width:2;\" /><line x1=\"42\" y1=\"15\" x2=\"42\" y2=\"27\" style=\"stroke:#d73027ff;stroke-width:2;\" /><line x1=\"43\" y1=\"15\" x2=\"43\" y2=\"27\" style=\"stroke:#d73027ff;stroke-width:2;\" /><line x1=\"44\" y1=\"15\" x2=\"44\" y2=\"27\" style=\"stroke:#d73027ff;stroke-width:2;\" /><line x1=\"45\" y1=\"15\" x2=\"45\" y2=\"27\" style=\"stroke:#d73027ff;stroke-width:2;\" /><line x1=\"46\" y1=\"15\" x2=\"46\" y2=\"27\" style=\"stroke:#d73027ff;stroke-width:2;\" /><line x1=\"47\" y1=\"15\" x2=\"47\" y2=\"27\" style=\"stroke:#d73027ff;stroke-width:2;\" /><line x1=\"48\" y1=\"15\" x2=\"48\" y2=\"27\" style=\"stroke:#d73027ff;stroke-width:2;\" /><line x1=\"49\" y1=\"15\" x2=\"49\" y2=\"27\" style=\"stroke:#d73027ff;stroke-width:2;\" /><line x1=\"50\" y1=\"15\" x2=\"50\" y2=\"27\" style=\"stroke:#d73027ff;stroke-width:2;\" /><line x1=\"51\" y1=\"15\" x2=\"51\" y2=\"27\" style=\"stroke:#d73027ff;stroke-width:2;\" /><line x1=\"52\" y1=\"15\" x2=\"52\" y2=\"27\" style=\"stroke:#d73027ff;stroke-width:2;\" /><line x1=\"53\" y1=\"15\" x2=\"53\" y2=\"27\" style=\"stroke:#d73027ff;stroke-width:2;\" /><line x1=\"54\" y1=\"15\" x2=\"54\" y2=\"27\" style=\"stroke:#d73027ff;stroke-width:2;\" /><line x1=\"55\" y1=\"15\" x2=\"55\" y2=\"27\" style=\"stroke:#d73027ff;stroke-width:2;\" /><line x1=\"56\" y1=\"15\" x2=\"56\" y2=\"27\" style=\"stroke:#d73027ff;stroke-width:2;\" /><line x1=\"57\" y1=\"15\" x2=\"57\" y2=\"27\" style=\"stroke:#d73027ff;stroke-width:2;\" /><line x1=\"58\" y1=\"15\" x2=\"58\" y2=\"27\" style=\"stroke:#d73027ff;stroke-width:2;\" /><line x1=\"59\" y1=\"15\" x2=\"59\" y2=\"27\" style=\"stroke:#d73027ff;stroke-width:2;\" /><line x1=\"60\" y1=\"15\" x2=\"60\" y2=\"27\" style=\"stroke:#d73027ff;stroke-width:2;\" /><line x1=\"61\" y1=\"15\" x2=\"61\" y2=\"27\" style=\"stroke:#d73027ff;stroke-width:2;\" /><line x1=\"62\" y1=\"15\" x2=\"62\" y2=\"27\" style=\"stroke:#d73027ff;stroke-width:2;\" /><line x1=\"63\" y1=\"15\" x2=\"63\" y2=\"27\" style=\"stroke:#d73027ff;stroke-width:2;\" /><line x1=\"64\" y1=\"15\" x2=\"64\" y2=\"27\" style=\"stroke:#d73027ff;stroke-width:2;\" /><line x1=\"65\" y1=\"15\" x2=\"65\" y2=\"27\" style=\"stroke:#d73027ff;stroke-width:2;\" /><line x1=\"66\" y1=\"15\" x2=\"66\" y2=\"27\" style=\"stroke:#d73027ff;stroke-width:2;\" /><line x1=\"67\" y1=\"15\" x2=\"67\" y2=\"27\" style=\"stroke:#d73027ff;stroke-width:2;\" /><line x1=\"68\" y1=\"15\" x2=\"68\" y2=\"27\" style=\"stroke:#d73027ff;stroke-width:2;\" /><line x1=\"69\" y1=\"15\" x2=\"69\" y2=\"27\" style=\"stroke:#d73027ff;stroke-width:2;\" /><line x1=\"70\" y1=\"15\" x2=\"70\" y2=\"27\" style=\"stroke:#d73027ff;stroke-width:2;\" /><line x1=\"71\" y1=\"15\" x2=\"71\" y2=\"27\" style=\"stroke:#d73027ff;stroke-width:2;\" /><line x1=\"72\" y1=\"15\" x2=\"72\" y2=\"27\" style=\"stroke:#d73027ff;stroke-width:2;\" /><line x1=\"73\" y1=\"15\" x2=\"73\" y2=\"27\" style=\"stroke:#d73027ff;stroke-width:2;\" /><line x1=\"74\" y1=\"15\" x2=\"74\" y2=\"27\" style=\"stroke:#d73027ff;stroke-width:2;\" /><line x1=\"75\" y1=\"15\" x2=\"75\" y2=\"27\" style=\"stroke:#d73027ff;stroke-width:2;\" /><line x1=\"76\" y1=\"15\" x2=\"76\" y2=\"27\" style=\"stroke:#d73027ff;stroke-width:2;\" /><line x1=\"77\" y1=\"15\" x2=\"77\" y2=\"27\" style=\"stroke:#d73027ff;stroke-width:2;\" /><line x1=\"78\" y1=\"15\" x2=\"78\" y2=\"27\" style=\"stroke:#d73027ff;stroke-width:2;\" /><line x1=\"79\" y1=\"15\" x2=\"79\" y2=\"27\" style=\"stroke:#d73027ff;stroke-width:2;\" /><line x1=\"80\" y1=\"15\" x2=\"80\" y2=\"27\" style=\"stroke:#d73027ff;stroke-width:2;\" /><line x1=\"81\" y1=\"15\" x2=\"81\" y2=\"27\" style=\"stroke:#fc8d59ff;stroke-width:2;\" /><line x1=\"82\" y1=\"15\" x2=\"82\" y2=\"27\" style=\"stroke:#fc8d59ff;stroke-width:2;\" /><line x1=\"83\" y1=\"15\" x2=\"83\" y2=\"27\" style=\"stroke:#fc8d59ff;stroke-width:2;\" /><line x1=\"84\" y1=\"15\" x2=\"84\" y2=\"27\" style=\"stroke:#fc8d59ff;stroke-width:2;\" /><line x1=\"85\" y1=\"15\" x2=\"85\" y2=\"27\" style=\"stroke:#fc8d59ff;stroke-width:2;\" /><line x1=\"86\" y1=\"15\" x2=\"86\" y2=\"27\" style=\"stroke:#fc8d59ff;stroke-width:2;\" /><line x1=\"87\" y1=\"15\" x2=\"87\" y2=\"27\" style=\"stroke:#fc8d59ff;stroke-width:2;\" /><line x1=\"88\" y1=\"15\" x2=\"88\" y2=\"27\" style=\"stroke:#fc8d59ff;stroke-width:2;\" /><line x1=\"89\" y1=\"15\" x2=\"89\" y2=\"27\" style=\"stroke:#fc8d59ff;stroke-width:2;\" /><line x1=\"90\" y1=\"15\" x2=\"90\" y2=\"27\" style=\"stroke:#fc8d59ff;stroke-width:2;\" /><line x1=\"91\" y1=\"15\" x2=\"91\" y2=\"27\" style=\"stroke:#fc8d59ff;stroke-width:2;\" /><line x1=\"92\" y1=\"15\" x2=\"92\" y2=\"27\" style=\"stroke:#fc8d59ff;stroke-width:2;\" /><line x1=\"93\" y1=\"15\" x2=\"93\" y2=\"27\" style=\"stroke:#fc8d59ff;stroke-width:2;\" /><line x1=\"94\" y1=\"15\" x2=\"94\" y2=\"27\" style=\"stroke:#fc8d59ff;stroke-width:2;\" /><line x1=\"95\" y1=\"15\" x2=\"95\" y2=\"27\" style=\"stroke:#fc8d59ff;stroke-width:2;\" /><line x1=\"96\" y1=\"15\" x2=\"96\" y2=\"27\" style=\"stroke:#fc8d59ff;stroke-width:2;\" /><line x1=\"97\" y1=\"15\" x2=\"97\" y2=\"27\" style=\"stroke:#fc8d59ff;stroke-width:2;\" /><line x1=\"98\" y1=\"15\" x2=\"98\" y2=\"27\" style=\"stroke:#fc8d59ff;stroke-width:2;\" /><line x1=\"99\" y1=\"15\" x2=\"99\" y2=\"27\" style=\"stroke:#fc8d59ff;stroke-width:2;\" /><line x1=\"100\" y1=\"15\" x2=\"100\" y2=\"27\" style=\"stroke:#fc8d59ff;stroke-width:2;\" /><line x1=\"101\" y1=\"15\" x2=\"101\" y2=\"27\" style=\"stroke:#fc8d59ff;stroke-width:2;\" /><line x1=\"102\" y1=\"15\" x2=\"102\" y2=\"27\" style=\"stroke:#fc8d59ff;stroke-width:2;\" /><line x1=\"103\" y1=\"15\" x2=\"103\" y2=\"27\" style=\"stroke:#fc8d59ff;stroke-width:2;\" /><line x1=\"104\" y1=\"15\" x2=\"104\" y2=\"27\" style=\"stroke:#fc8d59ff;stroke-width:2;\" /><line x1=\"105\" y1=\"15\" x2=\"105\" y2=\"27\" style=\"stroke:#fc8d59ff;stroke-width:2;\" /><line x1=\"106\" y1=\"15\" x2=\"106\" y2=\"27\" style=\"stroke:#fc8d59ff;stroke-width:2;\" /><line x1=\"107\" y1=\"15\" x2=\"107\" y2=\"27\" style=\"stroke:#fc8d59ff;stroke-width:2;\" /><line x1=\"108\" y1=\"15\" x2=\"108\" y2=\"27\" style=\"stroke:#fc8d59ff;stroke-width:2;\" /><line x1=\"109\" y1=\"15\" x2=\"109\" y2=\"27\" style=\"stroke:#fc8d59ff;stroke-width:2;\" /><line x1=\"110\" y1=\"15\" x2=\"110\" y2=\"27\" style=\"stroke:#fc8d59ff;stroke-width:2;\" /><line x1=\"111\" y1=\"15\" x2=\"111\" y2=\"27\" style=\"stroke:#fc8d59ff;stroke-width:2;\" /><line x1=\"112\" y1=\"15\" x2=\"112\" y2=\"27\" style=\"stroke:#fc8d59ff;stroke-width:2;\" /><line x1=\"113\" y1=\"15\" x2=\"113\" y2=\"27\" style=\"stroke:#fc8d59ff;stroke-width:2;\" /><line x1=\"114\" y1=\"15\" x2=\"114\" y2=\"27\" style=\"stroke:#fc8d59ff;stroke-width:2;\" /><line x1=\"115\" y1=\"15\" x2=\"115\" y2=\"27\" style=\"stroke:#fc8d59ff;stroke-width:2;\" /><line x1=\"116\" y1=\"15\" x2=\"116\" y2=\"27\" style=\"stroke:#fc8d59ff;stroke-width:2;\" /><line x1=\"117\" y1=\"15\" x2=\"117\" y2=\"27\" style=\"stroke:#fc8d59ff;stroke-width:2;\" /><line x1=\"118\" y1=\"15\" x2=\"118\" y2=\"27\" style=\"stroke:#fc8d59ff;stroke-width:2;\" /><line x1=\"119\" y1=\"15\" x2=\"119\" y2=\"27\" style=\"stroke:#fc8d59ff;stroke-width:2;\" /><line x1=\"120\" y1=\"15\" x2=\"120\" y2=\"27\" style=\"stroke:#fc8d59ff;stroke-width:2;\" /><line x1=\"121\" y1=\"15\" x2=\"121\" y2=\"27\" style=\"stroke:#fc8d59ff;stroke-width:2;\" /><line x1=\"122\" y1=\"15\" x2=\"122\" y2=\"27\" style=\"stroke:#fc8d59ff;stroke-width:2;\" /><line x1=\"123\" y1=\"15\" x2=\"123\" y2=\"27\" style=\"stroke:#fc8d59ff;stroke-width:2;\" /><line x1=\"124\" y1=\"15\" x2=\"124\" y2=\"27\" style=\"stroke:#fc8d59ff;stroke-width:2;\" /><line x1=\"125\" y1=\"15\" x2=\"125\" y2=\"27\" style=\"stroke:#fc8d59ff;stroke-width:2;\" /><line x1=\"126\" y1=\"15\" x2=\"126\" y2=\"27\" style=\"stroke:#fc8d59ff;stroke-width:2;\" /><line x1=\"127\" y1=\"15\" x2=\"127\" y2=\"27\" style=\"stroke:#fc8d59ff;stroke-width:2;\" /><line x1=\"128\" y1=\"15\" x2=\"128\" y2=\"27\" style=\"stroke:#fc8d59ff;stroke-width:2;\" /><line x1=\"129\" y1=\"15\" x2=\"129\" y2=\"27\" style=\"stroke:#fc8d59ff;stroke-width:2;\" /><line x1=\"130\" y1=\"15\" x2=\"130\" y2=\"27\" style=\"stroke:#fc8d59ff;stroke-width:2;\" /><line x1=\"131\" y1=\"15\" x2=\"131\" y2=\"27\" style=\"stroke:#fc8d59ff;stroke-width:2;\" /><line x1=\"132\" y1=\"15\" x2=\"132\" y2=\"27\" style=\"stroke:#fc8d59ff;stroke-width:2;\" /><line x1=\"133\" y1=\"15\" x2=\"133\" y2=\"27\" style=\"stroke:#fc8d59ff;stroke-width:2;\" /><line x1=\"134\" y1=\"15\" x2=\"134\" y2=\"27\" style=\"stroke:#fc8d59ff;stroke-width:2;\" /><line x1=\"135\" y1=\"15\" x2=\"135\" y2=\"27\" style=\"stroke:#fc8d59ff;stroke-width:2;\" /><line x1=\"136\" y1=\"15\" x2=\"136\" y2=\"27\" style=\"stroke:#fc8d59ff;stroke-width:2;\" /><line x1=\"137\" y1=\"15\" x2=\"137\" y2=\"27\" style=\"stroke:#fc8d59ff;stroke-width:2;\" /><line x1=\"138\" y1=\"15\" x2=\"138\" y2=\"27\" style=\"stroke:#fc8d59ff;stroke-width:2;\" /><line x1=\"139\" y1=\"15\" x2=\"139\" y2=\"27\" style=\"stroke:#fc8d59ff;stroke-width:2;\" /><line x1=\"140\" y1=\"15\" x2=\"140\" y2=\"27\" style=\"stroke:#fc8d59ff;stroke-width:2;\" /><line x1=\"141\" y1=\"15\" x2=\"141\" y2=\"27\" style=\"stroke:#fc8d59ff;stroke-width:2;\" /><line x1=\"142\" y1=\"15\" x2=\"142\" y2=\"27\" style=\"stroke:#fc8d59ff;stroke-width:2;\" /><line x1=\"143\" y1=\"15\" x2=\"143\" y2=\"27\" style=\"stroke:#fc8d59ff;stroke-width:2;\" /><line x1=\"144\" y1=\"15\" x2=\"144\" y2=\"27\" style=\"stroke:#fc8d59ff;stroke-width:2;\" /><line x1=\"145\" y1=\"15\" x2=\"145\" y2=\"27\" style=\"stroke:#fee08bff;stroke-width:2;\" /><line x1=\"146\" y1=\"15\" x2=\"146\" y2=\"27\" style=\"stroke:#fee08bff;stroke-width:2;\" /><line x1=\"147\" y1=\"15\" x2=\"147\" y2=\"27\" style=\"stroke:#fee08bff;stroke-width:2;\" /><line x1=\"148\" y1=\"15\" x2=\"148\" y2=\"27\" style=\"stroke:#fee08bff;stroke-width:2;\" /><line x1=\"149\" y1=\"15\" x2=\"149\" y2=\"27\" style=\"stroke:#fee08bff;stroke-width:2;\" /><line x1=\"150\" y1=\"15\" x2=\"150\" y2=\"27\" style=\"stroke:#fee08bff;stroke-width:2;\" /><line x1=\"151\" y1=\"15\" x2=\"151\" y2=\"27\" style=\"stroke:#fee08bff;stroke-width:2;\" /><line x1=\"152\" y1=\"15\" x2=\"152\" y2=\"27\" style=\"stroke:#fee08bff;stroke-width:2;\" /><line x1=\"153\" y1=\"15\" x2=\"153\" y2=\"27\" style=\"stroke:#fee08bff;stroke-width:2;\" /><line x1=\"154\" y1=\"15\" x2=\"154\" y2=\"27\" style=\"stroke:#fee08bff;stroke-width:2;\" /><line x1=\"155\" y1=\"15\" x2=\"155\" y2=\"27\" style=\"stroke:#fee08bff;stroke-width:2;\" /><line x1=\"156\" y1=\"15\" x2=\"156\" y2=\"27\" style=\"stroke:#fee08bff;stroke-width:2;\" /><line x1=\"157\" y1=\"15\" x2=\"157\" y2=\"27\" style=\"stroke:#fee08bff;stroke-width:2;\" /><line x1=\"158\" y1=\"15\" x2=\"158\" y2=\"27\" style=\"stroke:#fee08bff;stroke-width:2;\" /><line x1=\"159\" y1=\"15\" x2=\"159\" y2=\"27\" style=\"stroke:#fee08bff;stroke-width:2;\" /><line x1=\"160\" y1=\"15\" x2=\"160\" y2=\"27\" style=\"stroke:#fee08bff;stroke-width:2;\" /><line x1=\"161\" y1=\"15\" x2=\"161\" y2=\"27\" style=\"stroke:#fee08bff;stroke-width:2;\" /><line x1=\"162\" y1=\"15\" x2=\"162\" y2=\"27\" style=\"stroke:#fee08bff;stroke-width:2;\" /><line x1=\"163\" y1=\"15\" x2=\"163\" y2=\"27\" style=\"stroke:#fee08bff;stroke-width:2;\" /><line x1=\"164\" y1=\"15\" x2=\"164\" y2=\"27\" style=\"stroke:#fee08bff;stroke-width:2;\" /><line x1=\"165\" y1=\"15\" x2=\"165\" y2=\"27\" style=\"stroke:#fee08bff;stroke-width:2;\" /><line x1=\"166\" y1=\"15\" x2=\"166\" y2=\"27\" style=\"stroke:#fee08bff;stroke-width:2;\" /><line x1=\"167\" y1=\"15\" x2=\"167\" y2=\"27\" style=\"stroke:#fee08bff;stroke-width:2;\" /><line x1=\"168\" y1=\"15\" x2=\"168\" y2=\"27\" style=\"stroke:#fee08bff;stroke-width:2;\" /><line x1=\"169\" y1=\"15\" x2=\"169\" y2=\"27\" style=\"stroke:#fee08bff;stroke-width:2;\" /><line x1=\"170\" y1=\"15\" x2=\"170\" y2=\"27\" style=\"stroke:#fee08bff;stroke-width:2;\" /><line x1=\"171\" y1=\"15\" x2=\"171\" y2=\"27\" style=\"stroke:#fee08bff;stroke-width:2;\" /><line x1=\"172\" y1=\"15\" x2=\"172\" y2=\"27\" style=\"stroke:#fee08bff;stroke-width:2;\" /><line x1=\"173\" y1=\"15\" x2=\"173\" y2=\"27\" style=\"stroke:#fee08bff;stroke-width:2;\" /><line x1=\"174\" y1=\"15\" x2=\"174\" y2=\"27\" style=\"stroke:#fee08bff;stroke-width:2;\" /><line x1=\"175\" y1=\"15\" x2=\"175\" y2=\"27\" style=\"stroke:#fee08bff;stroke-width:2;\" /><line x1=\"176\" y1=\"15\" x2=\"176\" y2=\"27\" style=\"stroke:#fee08bff;stroke-width:2;\" /><line x1=\"177\" y1=\"15\" x2=\"177\" y2=\"27\" style=\"stroke:#fee08bff;stroke-width:2;\" /><line x1=\"178\" y1=\"15\" x2=\"178\" y2=\"27\" style=\"stroke:#fee08bff;stroke-width:2;\" /><line x1=\"179\" y1=\"15\" x2=\"179\" y2=\"27\" style=\"stroke:#fee08bff;stroke-width:2;\" /><line x1=\"180\" y1=\"15\" x2=\"180\" y2=\"27\" style=\"stroke:#fee08bff;stroke-width:2;\" /><line x1=\"181\" y1=\"15\" x2=\"181\" y2=\"27\" style=\"stroke:#fee08bff;stroke-width:2;\" /><line x1=\"182\" y1=\"15\" x2=\"182\" y2=\"27\" style=\"stroke:#fee08bff;stroke-width:2;\" /><line x1=\"183\" y1=\"15\" x2=\"183\" y2=\"27\" style=\"stroke:#fee08bff;stroke-width:2;\" /><line x1=\"184\" y1=\"15\" x2=\"184\" y2=\"27\" style=\"stroke:#fee08bff;stroke-width:2;\" /><line x1=\"185\" y1=\"15\" x2=\"185\" y2=\"27\" style=\"stroke:#fee08bff;stroke-width:2;\" /><line x1=\"186\" y1=\"15\" x2=\"186\" y2=\"27\" style=\"stroke:#fee08bff;stroke-width:2;\" /><line x1=\"187\" y1=\"15\" x2=\"187\" y2=\"27\" style=\"stroke:#fee08bff;stroke-width:2;\" /><line x1=\"188\" y1=\"15\" x2=\"188\" y2=\"27\" style=\"stroke:#fee08bff;stroke-width:2;\" /><line x1=\"189\" y1=\"15\" x2=\"189\" y2=\"27\" style=\"stroke:#fee08bff;stroke-width:2;\" /><line x1=\"190\" y1=\"15\" x2=\"190\" y2=\"27\" style=\"stroke:#fee08bff;stroke-width:2;\" /><line x1=\"191\" y1=\"15\" x2=\"191\" y2=\"27\" style=\"stroke:#fee08bff;stroke-width:2;\" /><line x1=\"192\" y1=\"15\" x2=\"192\" y2=\"27\" style=\"stroke:#fee08bff;stroke-width:2;\" /><line x1=\"193\" y1=\"15\" x2=\"193\" y2=\"27\" style=\"stroke:#d9ef8bff;stroke-width:2;\" /><line x1=\"194\" y1=\"15\" x2=\"194\" y2=\"27\" style=\"stroke:#d9ef8bff;stroke-width:2;\" /><line x1=\"195\" y1=\"15\" x2=\"195\" y2=\"27\" style=\"stroke:#d9ef8bff;stroke-width:2;\" /><line x1=\"196\" y1=\"15\" x2=\"196\" y2=\"27\" style=\"stroke:#d9ef8bff;stroke-width:2;\" /><line x1=\"197\" y1=\"15\" x2=\"197\" y2=\"27\" style=\"stroke:#d9ef8bff;stroke-width:2;\" /><line x1=\"198\" y1=\"15\" x2=\"198\" y2=\"27\" style=\"stroke:#d9ef8bff;stroke-width:2;\" /><line x1=\"199\" y1=\"15\" x2=\"199\" y2=\"27\" style=\"stroke:#d9ef8bff;stroke-width:2;\" /><line x1=\"200\" y1=\"15\" x2=\"200\" y2=\"27\" style=\"stroke:#d9ef8bff;stroke-width:2;\" /><line x1=\"201\" y1=\"15\" x2=\"201\" y2=\"27\" style=\"stroke:#d9ef8bff;stroke-width:2;\" /><line x1=\"202\" y1=\"15\" x2=\"202\" y2=\"27\" style=\"stroke:#d9ef8bff;stroke-width:2;\" /><line x1=\"203\" y1=\"15\" x2=\"203\" y2=\"27\" style=\"stroke:#d9ef8bff;stroke-width:2;\" /><line x1=\"204\" y1=\"15\" x2=\"204\" y2=\"27\" style=\"stroke:#d9ef8bff;stroke-width:2;\" /><line x1=\"205\" y1=\"15\" x2=\"205\" y2=\"27\" style=\"stroke:#d9ef8bff;stroke-width:2;\" /><line x1=\"206\" y1=\"15\" x2=\"206\" y2=\"27\" style=\"stroke:#d9ef8bff;stroke-width:2;\" /><line x1=\"207\" y1=\"15\" x2=\"207\" y2=\"27\" style=\"stroke:#d9ef8bff;stroke-width:2;\" /><line x1=\"208\" y1=\"15\" x2=\"208\" y2=\"27\" style=\"stroke:#d9ef8bff;stroke-width:2;\" /><line x1=\"209\" y1=\"15\" x2=\"209\" y2=\"27\" style=\"stroke:#d9ef8bff;stroke-width:2;\" /><line x1=\"210\" y1=\"15\" x2=\"210\" y2=\"27\" style=\"stroke:#d9ef8bff;stroke-width:2;\" /><line x1=\"211\" y1=\"15\" x2=\"211\" y2=\"27\" style=\"stroke:#d9ef8bff;stroke-width:2;\" /><line x1=\"212\" y1=\"15\" x2=\"212\" y2=\"27\" style=\"stroke:#d9ef8bff;stroke-width:2;\" /><line x1=\"213\" y1=\"15\" x2=\"213\" y2=\"27\" style=\"stroke:#d9ef8bff;stroke-width:2;\" /><line x1=\"214\" y1=\"15\" x2=\"214\" y2=\"27\" style=\"stroke:#d9ef8bff;stroke-width:2;\" /><line x1=\"215\" y1=\"15\" x2=\"215\" y2=\"27\" style=\"stroke:#d9ef8bff;stroke-width:2;\" /><line x1=\"216\" y1=\"15\" x2=\"216\" y2=\"27\" style=\"stroke:#d9ef8bff;stroke-width:2;\" /><line x1=\"217\" y1=\"15\" x2=\"217\" y2=\"27\" style=\"stroke:#d9ef8bff;stroke-width:2;\" /><line x1=\"218\" y1=\"15\" x2=\"218\" y2=\"27\" style=\"stroke:#d9ef8bff;stroke-width:2;\" /><line x1=\"219\" y1=\"15\" x2=\"219\" y2=\"27\" style=\"stroke:#d9ef8bff;stroke-width:2;\" /><line x1=\"220\" y1=\"15\" x2=\"220\" y2=\"27\" style=\"stroke:#d9ef8bff;stroke-width:2;\" /><line x1=\"221\" y1=\"15\" x2=\"221\" y2=\"27\" style=\"stroke:#d9ef8bff;stroke-width:2;\" /><line x1=\"222\" y1=\"15\" x2=\"222\" y2=\"27\" style=\"stroke:#d9ef8bff;stroke-width:2;\" /><line x1=\"223\" y1=\"15\" x2=\"223\" y2=\"27\" style=\"stroke:#d9ef8bff;stroke-width:2;\" /><line x1=\"224\" y1=\"15\" x2=\"224\" y2=\"27\" style=\"stroke:#d9ef8bff;stroke-width:2;\" /><line x1=\"225\" y1=\"15\" x2=\"225\" y2=\"27\" style=\"stroke:#d9ef8bff;stroke-width:2;\" /><line x1=\"226\" y1=\"15\" x2=\"226\" y2=\"27\" style=\"stroke:#d9ef8bff;stroke-width:2;\" /><line x1=\"227\" y1=\"15\" x2=\"227\" y2=\"27\" style=\"stroke:#d9ef8bff;stroke-width:2;\" /><line x1=\"228\" y1=\"15\" x2=\"228\" y2=\"27\" style=\"stroke:#d9ef8bff;stroke-width:2;\" /><line x1=\"229\" y1=\"15\" x2=\"229\" y2=\"27\" style=\"stroke:#d9ef8bff;stroke-width:2;\" /><line x1=\"230\" y1=\"15\" x2=\"230\" y2=\"27\" style=\"stroke:#d9ef8bff;stroke-width:2;\" /><line x1=\"231\" y1=\"15\" x2=\"231\" y2=\"27\" style=\"stroke:#d9ef8bff;stroke-width:2;\" /><line x1=\"232\" y1=\"15\" x2=\"232\" y2=\"27\" style=\"stroke:#d9ef8bff;stroke-width:2;\" /><line x1=\"233\" y1=\"15\" x2=\"233\" y2=\"27\" style=\"stroke:#d9ef8bff;stroke-width:2;\" /><line x1=\"234\" y1=\"15\" x2=\"234\" y2=\"27\" style=\"stroke:#d9ef8bff;stroke-width:2;\" /><line x1=\"235\" y1=\"15\" x2=\"235\" y2=\"27\" style=\"stroke:#d9ef8bff;stroke-width:2;\" /><line x1=\"236\" y1=\"15\" x2=\"236\" y2=\"27\" style=\"stroke:#d9ef8bff;stroke-width:2;\" /><line x1=\"237\" y1=\"15\" x2=\"237\" y2=\"27\" style=\"stroke:#d9ef8bff;stroke-width:2;\" /><line x1=\"238\" y1=\"15\" x2=\"238\" y2=\"27\" style=\"stroke:#d9ef8bff;stroke-width:2;\" /><line x1=\"239\" y1=\"15\" x2=\"239\" y2=\"27\" style=\"stroke:#d9ef8bff;stroke-width:2;\" /><line x1=\"240\" y1=\"15\" x2=\"240\" y2=\"27\" style=\"stroke:#d9ef8bff;stroke-width:2;\" /><line x1=\"241\" y1=\"15\" x2=\"241\" y2=\"27\" style=\"stroke:#91cf60ff;stroke-width:2;\" /><line x1=\"242\" y1=\"15\" x2=\"242\" y2=\"27\" style=\"stroke:#91cf60ff;stroke-width:2;\" /><line x1=\"243\" y1=\"15\" x2=\"243\" y2=\"27\" style=\"stroke:#91cf60ff;stroke-width:2;\" /><line x1=\"244\" y1=\"15\" x2=\"244\" y2=\"27\" style=\"stroke:#91cf60ff;stroke-width:2;\" /><line x1=\"245\" y1=\"15\" x2=\"245\" y2=\"27\" style=\"stroke:#91cf60ff;stroke-width:2;\" /><line x1=\"246\" y1=\"15\" x2=\"246\" y2=\"27\" style=\"stroke:#91cf60ff;stroke-width:2;\" /><line x1=\"247\" y1=\"15\" x2=\"247\" y2=\"27\" style=\"stroke:#91cf60ff;stroke-width:2;\" /><line x1=\"248\" y1=\"15\" x2=\"248\" y2=\"27\" style=\"stroke:#91cf60ff;stroke-width:2;\" /><line x1=\"249\" y1=\"15\" x2=\"249\" y2=\"27\" style=\"stroke:#91cf60ff;stroke-width:2;\" /><line x1=\"250\" y1=\"15\" x2=\"250\" y2=\"27\" style=\"stroke:#91cf60ff;stroke-width:2;\" /><line x1=\"251\" y1=\"15\" x2=\"251\" y2=\"27\" style=\"stroke:#91cf60ff;stroke-width:2;\" /><line x1=\"252\" y1=\"15\" x2=\"252\" y2=\"27\" style=\"stroke:#91cf60ff;stroke-width:2;\" /><line x1=\"253\" y1=\"15\" x2=\"253\" y2=\"27\" style=\"stroke:#91cf60ff;stroke-width:2;\" /><line x1=\"254\" y1=\"15\" x2=\"254\" y2=\"27\" style=\"stroke:#91cf60ff;stroke-width:2;\" /><line x1=\"255\" y1=\"15\" x2=\"255\" y2=\"27\" style=\"stroke:#91cf60ff;stroke-width:2;\" /><line x1=\"256\" y1=\"15\" x2=\"256\" y2=\"27\" style=\"stroke:#91cf60ff;stroke-width:2;\" /><line x1=\"257\" y1=\"15\" x2=\"257\" y2=\"27\" style=\"stroke:#91cf60ff;stroke-width:2;\" /><line x1=\"258\" y1=\"15\" x2=\"258\" y2=\"27\" style=\"stroke:#91cf60ff;stroke-width:2;\" /><line x1=\"259\" y1=\"15\" x2=\"259\" y2=\"27\" style=\"stroke:#91cf60ff;stroke-width:2;\" /><line x1=\"260\" y1=\"15\" x2=\"260\" y2=\"27\" style=\"stroke:#91cf60ff;stroke-width:2;\" /><line x1=\"261\" y1=\"15\" x2=\"261\" y2=\"27\" style=\"stroke:#91cf60ff;stroke-width:2;\" /><line x1=\"262\" y1=\"15\" x2=\"262\" y2=\"27\" style=\"stroke:#91cf60ff;stroke-width:2;\" /><line x1=\"263\" y1=\"15\" x2=\"263\" y2=\"27\" style=\"stroke:#91cf60ff;stroke-width:2;\" /><line x1=\"264\" y1=\"15\" x2=\"264\" y2=\"27\" style=\"stroke:#91cf60ff;stroke-width:2;\" /><line x1=\"265\" y1=\"15\" x2=\"265\" y2=\"27\" style=\"stroke:#91cf60ff;stroke-width:2;\" /><line x1=\"266\" y1=\"15\" x2=\"266\" y2=\"27\" style=\"stroke:#91cf60ff;stroke-width:2;\" /><line x1=\"267\" y1=\"15\" x2=\"267\" y2=\"27\" style=\"stroke:#91cf60ff;stroke-width:2;\" /><line x1=\"268\" y1=\"15\" x2=\"268\" y2=\"27\" style=\"stroke:#91cf60ff;stroke-width:2;\" /><line x1=\"269\" y1=\"15\" x2=\"269\" y2=\"27\" style=\"stroke:#91cf60ff;stroke-width:2;\" /><line x1=\"270\" y1=\"15\" x2=\"270\" y2=\"27\" style=\"stroke:#91cf60ff;stroke-width:2;\" /><line x1=\"271\" y1=\"15\" x2=\"271\" y2=\"27\" style=\"stroke:#91cf60ff;stroke-width:2;\" /><line x1=\"272\" y1=\"15\" x2=\"272\" y2=\"27\" style=\"stroke:#91cf60ff;stroke-width:2;\" /><line x1=\"273\" y1=\"15\" x2=\"273\" y2=\"27\" style=\"stroke:#91cf60ff;stroke-width:2;\" /><line x1=\"274\" y1=\"15\" x2=\"274\" y2=\"27\" style=\"stroke:#91cf60ff;stroke-width:2;\" /><line x1=\"275\" y1=\"15\" x2=\"275\" y2=\"27\" style=\"stroke:#91cf60ff;stroke-width:2;\" /><line x1=\"276\" y1=\"15\" x2=\"276\" y2=\"27\" style=\"stroke:#91cf60ff;stroke-width:2;\" /><line x1=\"277\" y1=\"15\" x2=\"277\" y2=\"27\" style=\"stroke:#91cf60ff;stroke-width:2;\" /><line x1=\"278\" y1=\"15\" x2=\"278\" y2=\"27\" style=\"stroke:#91cf60ff;stroke-width:2;\" /><line x1=\"279\" y1=\"15\" x2=\"279\" y2=\"27\" style=\"stroke:#91cf60ff;stroke-width:2;\" /><line x1=\"280\" y1=\"15\" x2=\"280\" y2=\"27\" style=\"stroke:#91cf60ff;stroke-width:2;\" /><line x1=\"281\" y1=\"15\" x2=\"281\" y2=\"27\" style=\"stroke:#91cf60ff;stroke-width:2;\" /><line x1=\"282\" y1=\"15\" x2=\"282\" y2=\"27\" style=\"stroke:#91cf60ff;stroke-width:2;\" /><line x1=\"283\" y1=\"15\" x2=\"283\" y2=\"27\" style=\"stroke:#91cf60ff;stroke-width:2;\" /><line x1=\"284\" y1=\"15\" x2=\"284\" y2=\"27\" style=\"stroke:#91cf60ff;stroke-width:2;\" /><line x1=\"285\" y1=\"15\" x2=\"285\" y2=\"27\" style=\"stroke:#91cf60ff;stroke-width:2;\" /><line x1=\"286\" y1=\"15\" x2=\"286\" y2=\"27\" style=\"stroke:#91cf60ff;stroke-width:2;\" /><line x1=\"287\" y1=\"15\" x2=\"287\" y2=\"27\" style=\"stroke:#91cf60ff;stroke-width:2;\" /><line x1=\"288\" y1=\"15\" x2=\"288\" y2=\"27\" style=\"stroke:#91cf60ff;stroke-width:2;\" /><line x1=\"289\" y1=\"15\" x2=\"289\" y2=\"27\" style=\"stroke:#91cf60ff;stroke-width:2;\" /><line x1=\"290\" y1=\"15\" x2=\"290\" y2=\"27\" style=\"stroke:#91cf60ff;stroke-width:2;\" /><line x1=\"291\" y1=\"15\" x2=\"291\" y2=\"27\" style=\"stroke:#91cf60ff;stroke-width:2;\" /><line x1=\"292\" y1=\"15\" x2=\"292\" y2=\"27\" style=\"stroke:#91cf60ff;stroke-width:2;\" /><line x1=\"293\" y1=\"15\" x2=\"293\" y2=\"27\" style=\"stroke:#91cf60ff;stroke-width:2;\" /><line x1=\"294\" y1=\"15\" x2=\"294\" y2=\"27\" style=\"stroke:#91cf60ff;stroke-width:2;\" /><line x1=\"295\" y1=\"15\" x2=\"295\" y2=\"27\" style=\"stroke:#91cf60ff;stroke-width:2;\" /><line x1=\"296\" y1=\"15\" x2=\"296\" y2=\"27\" style=\"stroke:#91cf60ff;stroke-width:2;\" /><line x1=\"297\" y1=\"15\" x2=\"297\" y2=\"27\" style=\"stroke:#91cf60ff;stroke-width:2;\" /><line x1=\"298\" y1=\"15\" x2=\"298\" y2=\"27\" style=\"stroke:#91cf60ff;stroke-width:2;\" /><line x1=\"299\" y1=\"15\" x2=\"299\" y2=\"27\" style=\"stroke:#91cf60ff;stroke-width:2;\" /><line x1=\"300\" y1=\"15\" x2=\"300\" y2=\"27\" style=\"stroke:#91cf60ff;stroke-width:2;\" /><line x1=\"301\" y1=\"15\" x2=\"301\" y2=\"27\" style=\"stroke:#91cf60ff;stroke-width:2;\" /><line x1=\"302\" y1=\"15\" x2=\"302\" y2=\"27\" style=\"stroke:#91cf60ff;stroke-width:2;\" /><line x1=\"303\" y1=\"15\" x2=\"303\" y2=\"27\" style=\"stroke:#91cf60ff;stroke-width:2;\" /><line x1=\"304\" y1=\"15\" x2=\"304\" y2=\"27\" style=\"stroke:#91cf60ff;stroke-width:2;\" /><line x1=\"305\" y1=\"15\" x2=\"305\" y2=\"27\" style=\"stroke:#91cf60ff;stroke-width:2;\" /><line x1=\"306\" y1=\"15\" x2=\"306\" y2=\"27\" style=\"stroke:#91cf60ff;stroke-width:2;\" /><line x1=\"307\" y1=\"15\" x2=\"307\" y2=\"27\" style=\"stroke:#91cf60ff;stroke-width:2;\" /><line x1=\"308\" y1=\"15\" x2=\"308\" y2=\"27\" style=\"stroke:#91cf60ff;stroke-width:2;\" /><line x1=\"309\" y1=\"15\" x2=\"309\" y2=\"27\" style=\"stroke:#91cf60ff;stroke-width:2;\" /><line x1=\"310\" y1=\"15\" x2=\"310\" y2=\"27\" style=\"stroke:#91cf60ff;stroke-width:2;\" /><line x1=\"311\" y1=\"15\" x2=\"311\" y2=\"27\" style=\"stroke:#91cf60ff;stroke-width:2;\" /><line x1=\"312\" y1=\"15\" x2=\"312\" y2=\"27\" style=\"stroke:#91cf60ff;stroke-width:2;\" /><line x1=\"313\" y1=\"15\" x2=\"313\" y2=\"27\" style=\"stroke:#91cf60ff;stroke-width:2;\" /><line x1=\"314\" y1=\"15\" x2=\"314\" y2=\"27\" style=\"stroke:#91cf60ff;stroke-width:2;\" /><line x1=\"315\" y1=\"15\" x2=\"315\" y2=\"27\" style=\"stroke:#91cf60ff;stroke-width:2;\" /><line x1=\"316\" y1=\"15\" x2=\"316\" y2=\"27\" style=\"stroke:#91cf60ff;stroke-width:2;\" /><line x1=\"317\" y1=\"15\" x2=\"317\" y2=\"27\" style=\"stroke:#91cf60ff;stroke-width:2;\" /><line x1=\"318\" y1=\"15\" x2=\"318\" y2=\"27\" style=\"stroke:#91cf60ff;stroke-width:2;\" /><line x1=\"319\" y1=\"15\" x2=\"319\" y2=\"27\" style=\"stroke:#91cf60ff;stroke-width:2;\" /><line x1=\"320\" y1=\"15\" x2=\"320\" y2=\"27\" style=\"stroke:#91cf60ff;stroke-width:2;\" /><line x1=\"321\" y1=\"15\" x2=\"321\" y2=\"27\" style=\"stroke:#91cf60ff;stroke-width:2;\" /><line x1=\"322\" y1=\"15\" x2=\"322\" y2=\"27\" style=\"stroke:#91cf60ff;stroke-width:2;\" /><line x1=\"323\" y1=\"15\" x2=\"323\" y2=\"27\" style=\"stroke:#91cf60ff;stroke-width:2;\" /><line x1=\"324\" y1=\"15\" x2=\"324\" y2=\"27\" style=\"stroke:#91cf60ff;stroke-width:2;\" /><line x1=\"325\" y1=\"15\" x2=\"325\" y2=\"27\" style=\"stroke:#91cf60ff;stroke-width:2;\" /><line x1=\"326\" y1=\"15\" x2=\"326\" y2=\"27\" style=\"stroke:#91cf60ff;stroke-width:2;\" /><line x1=\"327\" y1=\"15\" x2=\"327\" y2=\"27\" style=\"stroke:#91cf60ff;stroke-width:2;\" /><line x1=\"328\" y1=\"15\" x2=\"328\" y2=\"27\" style=\"stroke:#91cf60ff;stroke-width:2;\" /><line x1=\"329\" y1=\"15\" x2=\"329\" y2=\"27\" style=\"stroke:#91cf60ff;stroke-width:2;\" /><line x1=\"330\" y1=\"15\" x2=\"330\" y2=\"27\" style=\"stroke:#91cf60ff;stroke-width:2;\" /><line x1=\"331\" y1=\"15\" x2=\"331\" y2=\"27\" style=\"stroke:#91cf60ff;stroke-width:2;\" /><line x1=\"332\" y1=\"15\" x2=\"332\" y2=\"27\" style=\"stroke:#91cf60ff;stroke-width:2;\" /><line x1=\"333\" y1=\"15\" x2=\"333\" y2=\"27\" style=\"stroke:#91cf60ff;stroke-width:2;\" /><line x1=\"334\" y1=\"15\" x2=\"334\" y2=\"27\" style=\"stroke:#91cf60ff;stroke-width:2;\" /><line x1=\"335\" y1=\"15\" x2=\"335\" y2=\"27\" style=\"stroke:#91cf60ff;stroke-width:2;\" /><line x1=\"336\" y1=\"15\" x2=\"336\" y2=\"27\" style=\"stroke:#91cf60ff;stroke-width:2;\" /><line x1=\"337\" y1=\"15\" x2=\"337\" y2=\"27\" style=\"stroke:#91cf60ff;stroke-width:2;\" /><line x1=\"338\" y1=\"15\" x2=\"338\" y2=\"27\" style=\"stroke:#91cf60ff;stroke-width:2;\" /><line x1=\"339\" y1=\"15\" x2=\"339\" y2=\"27\" style=\"stroke:#91cf60ff;stroke-width:2;\" /><line x1=\"340\" y1=\"15\" x2=\"340\" y2=\"27\" style=\"stroke:#91cf60ff;stroke-width:2;\" /><line x1=\"341\" y1=\"15\" x2=\"341\" y2=\"27\" style=\"stroke:#91cf60ff;stroke-width:2;\" /><line x1=\"342\" y1=\"15\" x2=\"342\" y2=\"27\" style=\"stroke:#91cf60ff;stroke-width:2;\" /><line x1=\"343\" y1=\"15\" x2=\"343\" y2=\"27\" style=\"stroke:#91cf60ff;stroke-width:2;\" /><line x1=\"344\" y1=\"15\" x2=\"344\" y2=\"27\" style=\"stroke:#91cf60ff;stroke-width:2;\" /><line x1=\"345\" y1=\"15\" x2=\"345\" y2=\"27\" style=\"stroke:#91cf60ff;stroke-width:2;\" /><line x1=\"346\" y1=\"15\" x2=\"346\" y2=\"27\" style=\"stroke:#91cf60ff;stroke-width:2;\" /><line x1=\"347\" y1=\"15\" x2=\"347\" y2=\"27\" style=\"stroke:#91cf60ff;stroke-width:2;\" /><line x1=\"348\" y1=\"15\" x2=\"348\" y2=\"27\" style=\"stroke:#91cf60ff;stroke-width:2;\" /><line x1=\"349\" y1=\"15\" x2=\"349\" y2=\"27\" style=\"stroke:#91cf60ff;stroke-width:2;\" /><line x1=\"350\" y1=\"15\" x2=\"350\" y2=\"27\" style=\"stroke:#91cf60ff;stroke-width:2;\" /><line x1=\"351\" y1=\"15\" x2=\"351\" y2=\"27\" style=\"stroke:#91cf60ff;stroke-width:2;\" /><line x1=\"352\" y1=\"15\" x2=\"352\" y2=\"27\" style=\"stroke:#91cf60ff;stroke-width:2;\" /><line x1=\"353\" y1=\"15\" x2=\"353\" y2=\"27\" style=\"stroke:#1a9850ff;stroke-width:2;\" /><line x1=\"354\" y1=\"15\" x2=\"354\" y2=\"27\" style=\"stroke:#1a9850ff;stroke-width:2;\" /><line x1=\"355\" y1=\"15\" x2=\"355\" y2=\"27\" style=\"stroke:#1a9850ff;stroke-width:2;\" /><line x1=\"356\" y1=\"15\" x2=\"356\" y2=\"27\" style=\"stroke:#1a9850ff;stroke-width:2;\" /><line x1=\"357\" y1=\"15\" x2=\"357\" y2=\"27\" style=\"stroke:#1a9850ff;stroke-width:2;\" /><line x1=\"358\" y1=\"15\" x2=\"358\" y2=\"27\" style=\"stroke:#1a9850ff;stroke-width:2;\" /><line x1=\"359\" y1=\"15\" x2=\"359\" y2=\"27\" style=\"stroke:#1a9850ff;stroke-width:2;\" /><line x1=\"360\" y1=\"15\" x2=\"360\" y2=\"27\" style=\"stroke:#1a9850ff;stroke-width:2;\" /><line x1=\"361\" y1=\"15\" x2=\"361\" y2=\"27\" style=\"stroke:#1a9850ff;stroke-width:2;\" /><line x1=\"362\" y1=\"15\" x2=\"362\" y2=\"27\" style=\"stroke:#1a9850ff;stroke-width:2;\" /><line x1=\"363\" y1=\"15\" x2=\"363\" y2=\"27\" style=\"stroke:#1a9850ff;stroke-width:2;\" /><line x1=\"364\" y1=\"15\" x2=\"364\" y2=\"27\" style=\"stroke:#1a9850ff;stroke-width:2;\" /><line x1=\"365\" y1=\"15\" x2=\"365\" y2=\"27\" style=\"stroke:#1a9850ff;stroke-width:2;\" /><line x1=\"366\" y1=\"15\" x2=\"366\" y2=\"27\" style=\"stroke:#1a9850ff;stroke-width:2;\" /><line x1=\"367\" y1=\"15\" x2=\"367\" y2=\"27\" style=\"stroke:#1a9850ff;stroke-width:2;\" /><line x1=\"368\" y1=\"15\" x2=\"368\" y2=\"27\" style=\"stroke:#1a9850ff;stroke-width:2;\" /><line x1=\"369\" y1=\"15\" x2=\"369\" y2=\"27\" style=\"stroke:#1a9850ff;stroke-width:2;\" /><line x1=\"370\" y1=\"15\" x2=\"370\" y2=\"27\" style=\"stroke:#1a9850ff;stroke-width:2;\" /><line x1=\"371\" y1=\"15\" x2=\"371\" y2=\"27\" style=\"stroke:#1a9850ff;stroke-width:2;\" /><line x1=\"372\" y1=\"15\" x2=\"372\" y2=\"27\" style=\"stroke:#1a9850ff;stroke-width:2;\" /><line x1=\"373\" y1=\"15\" x2=\"373\" y2=\"27\" style=\"stroke:#1a9850ff;stroke-width:2;\" /><line x1=\"374\" y1=\"15\" x2=\"374\" y2=\"27\" style=\"stroke:#1a9850ff;stroke-width:2;\" /><line x1=\"375\" y1=\"15\" x2=\"375\" y2=\"27\" style=\"stroke:#1a9850ff;stroke-width:2;\" /><line x1=\"376\" y1=\"15\" x2=\"376\" y2=\"27\" style=\"stroke:#1a9850ff;stroke-width:2;\" /><line x1=\"377\" y1=\"15\" x2=\"377\" y2=\"27\" style=\"stroke:#1a9850ff;stroke-width:2;\" /><line x1=\"378\" y1=\"15\" x2=\"378\" y2=\"27\" style=\"stroke:#1a9850ff;stroke-width:2;\" /><line x1=\"379\" y1=\"15\" x2=\"379\" y2=\"27\" style=\"stroke:#1a9850ff;stroke-width:2;\" /><line x1=\"380\" y1=\"15\" x2=\"380\" y2=\"27\" style=\"stroke:#1a9850ff;stroke-width:2;\" /><line x1=\"381\" y1=\"15\" x2=\"381\" y2=\"27\" style=\"stroke:#1a9850ff;stroke-width:2;\" /><line x1=\"382\" y1=\"15\" x2=\"382\" y2=\"27\" style=\"stroke:#1a9850ff;stroke-width:2;\" /><line x1=\"383\" y1=\"15\" x2=\"383\" y2=\"27\" style=\"stroke:#1a9850ff;stroke-width:2;\" /><line x1=\"384\" y1=\"15\" x2=\"384\" y2=\"27\" style=\"stroke:#1a9850ff;stroke-width:2;\" /><line x1=\"385\" y1=\"15\" x2=\"385\" y2=\"27\" style=\"stroke:#1a9850ff;stroke-width:2;\" /><line x1=\"386\" y1=\"15\" x2=\"386\" y2=\"27\" style=\"stroke:#1a9850ff;stroke-width:2;\" /><line x1=\"387\" y1=\"15\" x2=\"387\" y2=\"27\" style=\"stroke:#1a9850ff;stroke-width:2;\" /><line x1=\"388\" y1=\"15\" x2=\"388\" y2=\"27\" style=\"stroke:#1a9850ff;stroke-width:2;\" /><line x1=\"389\" y1=\"15\" x2=\"389\" y2=\"27\" style=\"stroke:#1a9850ff;stroke-width:2;\" /><line x1=\"390\" y1=\"15\" x2=\"390\" y2=\"27\" style=\"stroke:#1a9850ff;stroke-width:2;\" /><line x1=\"391\" y1=\"15\" x2=\"391\" y2=\"27\" style=\"stroke:#1a9850ff;stroke-width:2;\" /><line x1=\"392\" y1=\"15\" x2=\"392\" y2=\"27\" style=\"stroke:#1a9850ff;stroke-width:2;\" /><line x1=\"393\" y1=\"15\" x2=\"393\" y2=\"27\" style=\"stroke:#1a9850ff;stroke-width:2;\" /><line x1=\"394\" y1=\"15\" x2=\"394\" y2=\"27\" style=\"stroke:#1a9850ff;stroke-width:2;\" /><line x1=\"395\" y1=\"15\" x2=\"395\" y2=\"27\" style=\"stroke:#1a9850ff;stroke-width:2;\" /><line x1=\"396\" y1=\"15\" x2=\"396\" y2=\"27\" style=\"stroke:#1a9850ff;stroke-width:2;\" /><line x1=\"397\" y1=\"15\" x2=\"397\" y2=\"27\" style=\"stroke:#1a9850ff;stroke-width:2;\" /><line x1=\"398\" y1=\"15\" x2=\"398\" y2=\"27\" style=\"stroke:#1a9850ff;stroke-width:2;\" /><line x1=\"399\" y1=\"15\" x2=\"399\" y2=\"27\" style=\"stroke:#1a9850ff;stroke-width:2;\" /><line x1=\"400\" y1=\"15\" x2=\"400\" y2=\"27\" style=\"stroke:#1a9850ff;stroke-width:2;\" /><line x1=\"401\" y1=\"15\" x2=\"401\" y2=\"27\" style=\"stroke:#1a9850ff;stroke-width:2;\" /><line x1=\"402\" y1=\"15\" x2=\"402\" y2=\"27\" style=\"stroke:#1a9850ff;stroke-width:2;\" /><line x1=\"403\" y1=\"15\" x2=\"403\" y2=\"27\" style=\"stroke:#1a9850ff;stroke-width:2;\" /><line x1=\"404\" y1=\"15\" x2=\"404\" y2=\"27\" style=\"stroke:#1a9850ff;stroke-width:2;\" /><line x1=\"405\" y1=\"15\" x2=\"405\" y2=\"27\" style=\"stroke:#1a9850ff;stroke-width:2;\" /><line x1=\"406\" y1=\"15\" x2=\"406\" y2=\"27\" style=\"stroke:#1a9850ff;stroke-width:2;\" /><line x1=\"407\" y1=\"15\" x2=\"407\" y2=\"27\" style=\"stroke:#1a9850ff;stroke-width:2;\" /><line x1=\"408\" y1=\"15\" x2=\"408\" y2=\"27\" style=\"stroke:#1a9850ff;stroke-width:2;\" /><line x1=\"409\" y1=\"15\" x2=\"409\" y2=\"27\" style=\"stroke:#1a9850ff;stroke-width:2;\" /><line x1=\"410\" y1=\"15\" x2=\"410\" y2=\"27\" style=\"stroke:#1a9850ff;stroke-width:2;\" /><line x1=\"411\" y1=\"15\" x2=\"411\" y2=\"27\" style=\"stroke:#1a9850ff;stroke-width:2;\" /><line x1=\"412\" y1=\"15\" x2=\"412\" y2=\"27\" style=\"stroke:#1a9850ff;stroke-width:2;\" /><line x1=\"413\" y1=\"15\" x2=\"413\" y2=\"27\" style=\"stroke:#1a9850ff;stroke-width:2;\" /><line x1=\"414\" y1=\"15\" x2=\"414\" y2=\"27\" style=\"stroke:#1a9850ff;stroke-width:2;\" /><line x1=\"415\" y1=\"15\" x2=\"415\" y2=\"27\" style=\"stroke:#1a9850ff;stroke-width:2;\" /><line x1=\"416\" y1=\"15\" x2=\"416\" y2=\"27\" style=\"stroke:#1a9850ff;stroke-width:2;\" /><line x1=\"417\" y1=\"15\" x2=\"417\" y2=\"27\" style=\"stroke:#1a9850ff;stroke-width:2;\" /><line x1=\"418\" y1=\"15\" x2=\"418\" y2=\"27\" style=\"stroke:#1a9850ff;stroke-width:2;\" /><line x1=\"419\" y1=\"15\" x2=\"419\" y2=\"27\" style=\"stroke:#1a9850ff;stroke-width:2;\" /><line x1=\"420\" y1=\"15\" x2=\"420\" y2=\"27\" style=\"stroke:#1a9850ff;stroke-width:2;\" /><line x1=\"421\" y1=\"15\" x2=\"421\" y2=\"27\" style=\"stroke:#1a9850ff;stroke-width:2;\" /><line x1=\"422\" y1=\"15\" x2=\"422\" y2=\"27\" style=\"stroke:#1a9850ff;stroke-width:2;\" /><line x1=\"423\" y1=\"15\" x2=\"423\" y2=\"27\" style=\"stroke:#1a9850ff;stroke-width:2;\" /><line x1=\"424\" y1=\"15\" x2=\"424\" y2=\"27\" style=\"stroke:#1a9850ff;stroke-width:2;\" /><line x1=\"425\" y1=\"15\" x2=\"425\" y2=\"27\" style=\"stroke:#1a9850ff;stroke-width:2;\" /><line x1=\"426\" y1=\"15\" x2=\"426\" y2=\"27\" style=\"stroke:#1a9850ff;stroke-width:2;\" /><line x1=\"427\" y1=\"15\" x2=\"427\" y2=\"27\" style=\"stroke:#1a9850ff;stroke-width:2;\" /><line x1=\"428\" y1=\"15\" x2=\"428\" y2=\"27\" style=\"stroke:#1a9850ff;stroke-width:2;\" /><line x1=\"429\" y1=\"15\" x2=\"429\" y2=\"27\" style=\"stroke:#1a9850ff;stroke-width:2;\" /><line x1=\"430\" y1=\"15\" x2=\"430\" y2=\"27\" style=\"stroke:#1a9850ff;stroke-width:2;\" /><line x1=\"431\" y1=\"15\" x2=\"431\" y2=\"27\" style=\"stroke:#1a9850ff;stroke-width:2;\" /><line x1=\"432\" y1=\"15\" x2=\"432\" y2=\"27\" style=\"stroke:#1a9850ff;stroke-width:2;\" /><line x1=\"433\" y1=\"15\" x2=\"433\" y2=\"27\" style=\"stroke:#1a9850ff;stroke-width:2;\" /><line x1=\"434\" y1=\"15\" x2=\"434\" y2=\"27\" style=\"stroke:#1a9850ff;stroke-width:2;\" /><line x1=\"435\" y1=\"15\" x2=\"435\" y2=\"27\" style=\"stroke:#1a9850ff;stroke-width:2;\" /><line x1=\"436\" y1=\"15\" x2=\"436\" y2=\"27\" style=\"stroke:#1a9850ff;stroke-width:2;\" /><line x1=\"437\" y1=\"15\" x2=\"437\" y2=\"27\" style=\"stroke:#1a9850ff;stroke-width:2;\" /><line x1=\"438\" y1=\"15\" x2=\"438\" y2=\"27\" style=\"stroke:#1a9850ff;stroke-width:2;\" /><line x1=\"439\" y1=\"15\" x2=\"439\" y2=\"27\" style=\"stroke:#1a9850ff;stroke-width:2;\" /><line x1=\"440\" y1=\"15\" x2=\"440\" y2=\"27\" style=\"stroke:#1a9850ff;stroke-width:2;\" /><line x1=\"441\" y1=\"15\" x2=\"441\" y2=\"27\" style=\"stroke:#1a9850ff;stroke-width:2;\" /><line x1=\"442\" y1=\"15\" x2=\"442\" y2=\"27\" style=\"stroke:#1a9850ff;stroke-width:2;\" /><line x1=\"443\" y1=\"15\" x2=\"443\" y2=\"27\" style=\"stroke:#1a9850ff;stroke-width:2;\" /><line x1=\"444\" y1=\"15\" x2=\"444\" y2=\"27\" style=\"stroke:#1a9850ff;stroke-width:2;\" /><line x1=\"445\" y1=\"15\" x2=\"445\" y2=\"27\" style=\"stroke:#1a9850ff;stroke-width:2;\" /><line x1=\"446\" y1=\"15\" x2=\"446\" y2=\"27\" style=\"stroke:#1a9850ff;stroke-width:2;\" /><line x1=\"447\" y1=\"15\" x2=\"447\" y2=\"27\" style=\"stroke:#1a9850ff;stroke-width:2;\" /><line x1=\"448\" y1=\"15\" x2=\"448\" y2=\"27\" style=\"stroke:#1a9850ff;stroke-width:2;\" /><line x1=\"449\" y1=\"15\" x2=\"449\" y2=\"27\" style=\"stroke:#1a9850ff;stroke-width:2;\" /><text x=\"0\" y=\"38\" style=\"text-anchor:start; font-size:11px; font:Arial; fill:black\">3</text><text x=\"75\" y=\"38\"; style=\"text-anchor:middle; font-size:11px; font:Arial; fill:black\">7.7</text><text x=\"150\" y=\"38\"; style=\"text-anchor:middle; font-size:11px; font:Arial; fill:black\">12.3</text><text x=\"225\" y=\"38\"; style=\"text-anchor:middle; font-size:11px; font:Arial; fill:black\">17.0</text><text x=\"300\" y=\"38\"; style=\"text-anchor:middle; font-size:11px; font:Arial; fill:black\">21.7</text><text x=\"375\" y=\"38\"; style=\"text-anchor:middle; font-size:11px; font:Arial; fill:black\">26.3</text><text x=\"450\" y=\"38\" style=\"text-anchor:end; font-size:11px; font:Arial; fill:black\">31</text><text x=\"0\" y=\"12\" style=\"font-size:11px; font:Arial; fill:black\">step</text></svg>"
      ],
      "text/plain": [
       "<branca.colormap.StepColormap at 0x201d7b7bcb0>"
      ]
     },
     "execution_count": 18,
     "metadata": {},
     "output_type": "execute_result"
    }
   ],
   "source": [
    "    step = cm.StepColormap(\n",
    "        [\"#d73027\", \"#fc8d59\", \"#fee08b\", \"#d9ef8b\", \"#91cf60\", \"#1a9850\",], vmin=3, vmax=31, index=[3, 8, 12, 15, 18, 25, 31], caption=\"step\"\n",
    "    )\n",
    "\n",
    "    step"
   ]
  },
  {
   "cell_type": "code",
   "execution_count": 19,
   "id": "7b072187-2d73-4814-ac62-3ac337e60787",
   "metadata": {},
   "outputs": [],
   "source": [
    "def style_function_simple(features):\n",
    "    departing_load = features[\"properties\"][\"departing_load\"]\n",
    "   \n",
    "    #print (features[\"properties\"][\"departing_load\"])\n",
    "    return {\n",
    "        'weight': departing_load,\n",
    "        'color': step(departing_load),\n",
    "        'lineCap': 'butt', # options -> 'round', 'square', 'butt'\n",
    "        'lineJoin': 'round' #options -> 'round', 'bevel', 'miter'\n",
    "    }"
   ]
  },
  {
   "cell_type": "code",
   "execution_count": 20,
   "id": "0241833a-8e2d-4477-b7df-6f3742fbe2a7",
   "metadata": {},
   "outputs": [],
   "source": [
    "tt = folium.GeoJsonTooltip(\n",
    "    fields = ['boardings', 'alightings', 'departing_load']\n",
    ")"
   ]
  },
  {
   "cell_type": "code",
   "execution_count": 21,
   "id": "e8f8704c-474a-4638-b6f2-ece26e3fa3c8",
   "metadata": {},
   "outputs": [
    {
     "data": {
      "text/plain": [
       "<folium.features.GeoJson at 0x201d7ad7230>"
      ]
     },
     "execution_count": 21,
     "metadata": {},
     "output_type": "execute_result"
    }
   ],
   "source": [
    "folium_map = folium.Map(location=[47.699389, -122.344733], zoom_start=14, tiles=\"cartodb positron\")\n",
    "\n",
    "\n",
    "folium.GeoJson(\n",
    "    data = segment_gdf,\n",
    "    style_function = style_function_simple,\n",
    "    tooltip = tt\n",
    ").add_to(folium_map)"
   ]
  },
  {
   "cell_type": "code",
   "execution_count": 22,
   "id": "19d5c715-effd-4fe7-b229-ed65eaefd381",
   "metadata": {},
   "outputs": [],
   "source": [
    "#folium_map"
   ]
  },
  {
   "cell_type": "markdown",
   "id": "4912885c-67a9-4fdf-b4a4-36290fd81e9f",
   "metadata": {},
   "source": [
    "#### Ok now that the single line map is done...... it is time to ***attempt*** to make the boarding/alighting lines"
   ]
  },
  {
   "cell_type": "code",
   "execution_count": 23,
   "id": "727be753-2ae6-4f85-96ec-8ea300c4d1a5",
   "metadata": {},
   "outputs": [
    {
     "data": {
      "text/plain": [
       "260      POINT (1268255 253055)\n",
       "262    POINT (1268277 254342.3)\n",
       "266    POINT (1268298 255739.1)\n",
       "268    POINT (1268313 257094.7)\n",
       "295    POINT (1268312 258317.8)\n",
       "297    POINT (1268343 259603.1)\n",
       "299    POINT (1268358 260977.2)\n",
       "303      POINT (1268366 263636)\n",
       "306    POINT (1268386 266091.6)\n",
       "Name: geometry, dtype: geometry"
      ]
     },
     "execution_count": 23,
     "metadata": {},
     "output_type": "execute_result"
    }
   ],
   "source": [
    "###get the point data frame\n",
    "\n",
    "e_line_northbound_stops['geometry']"
   ]
  },
  {
   "cell_type": "code",
   "execution_count": 24,
   "id": "ce3134d1-2cc9-4339-abf3-353e6882f87d",
   "metadata": {},
   "outputs": [],
   "source": [
    "#### use shapely.transform to generate new points?"
   ]
  },
  {
   "cell_type": "code",
   "execution_count": 25,
   "id": "4773dfc1-0606-4592-9537-056222eb70cf",
   "metadata": {},
   "outputs": [],
   "source": [
    "test_point = e_line_northbound_stops['geometry'].iloc[0]\n",
    "\n",
    "shifted_point = shapely.transform(geometry=test_point, transformation=lambda x,y: (x + 5, y + 5), interleaved=False)"
   ]
  },
  {
   "cell_type": "code",
   "execution_count": 26,
   "id": "8b35d1e3-ad45-4616-bf87-ed8b7fc5752c",
   "metadata": {},
   "outputs": [],
   "source": [
    "shifted_stops_dict = {}\n",
    "counter = 0\n",
    "\n",
    "\n",
    "for point in e_line_northbound_stops['geometry']:\n",
    "    counter = counter + 1\n",
    "    shifted_stops_dict[f\"stop_{counter}_shifted_point\"] = shapely.transform(geometry=point, transformation=lambda x,y: (x + 500, y + 500), interleaved=False)\n"
   ]
  },
  {
   "cell_type": "code",
   "execution_count": 27,
   "id": "38b72d05-9cec-432a-a416-c74f4028d24e",
   "metadata": {},
   "outputs": [],
   "source": [
    "shifted_points_list = list(shifted_stops_dict.values())"
   ]
  },
  {
   "cell_type": "code",
   "execution_count": 28,
   "id": "4b20aae0-b876-4cd8-bb3f-c8a64417b877",
   "metadata": {},
   "outputs": [],
   "source": [
    "shifted_stops_gdf = gpd.GeoDataFrame(geometry = shifted_points_list, crs = \"EPSG:2926\")"
   ]
  },
  {
   "cell_type": "code",
   "execution_count": 29,
   "id": "1cf3f631-ac8b-4b74-b888-bb1116a2fbcf",
   "metadata": {},
   "outputs": [],
   "source": [
    "shift_map = shifted_stops_gdf.explore()"
   ]
  },
  {
   "cell_type": "code",
   "execution_count": 30,
   "id": "366f58de-6681-4ba4-9ebd-640aa41c1925",
   "metadata": {},
   "outputs": [
    {
     "data": {
      "text/html": [
       "<div style=\"width:100%;\"><div style=\"position:relative;width:100%;height:0;padding-bottom:60%;\"><span style=\"color:#565656\">Make this Notebook Trusted to load map: File -> Trust Notebook</span><iframe srcdoc=\"&lt;!DOCTYPE html&gt;\n",
       "&lt;html&gt;\n",
       "&lt;head&gt;\n",
       "    \n",
       "    &lt;meta http-equiv=&quot;content-type&quot; content=&quot;text/html; charset=UTF-8&quot; /&gt;\n",
       "    \n",
       "        &lt;script&gt;\n",
       "            L_NO_TOUCH = false;\n",
       "            L_DISABLE_3D = false;\n",
       "        &lt;/script&gt;\n",
       "    \n",
       "    &lt;style&gt;html, body {width: 100%;height: 100%;margin: 0;padding: 0;}&lt;/style&gt;\n",
       "    &lt;style&gt;#map {position:absolute;top:0;bottom:0;right:0;left:0;}&lt;/style&gt;\n",
       "    &lt;script src=&quot;https://cdn.jsdelivr.net/npm/leaflet@1.9.3/dist/leaflet.js&quot;&gt;&lt;/script&gt;\n",
       "    &lt;script src=&quot;https://code.jquery.com/jquery-3.7.1.min.js&quot;&gt;&lt;/script&gt;\n",
       "    &lt;script src=&quot;https://cdn.jsdelivr.net/npm/bootstrap@5.2.2/dist/js/bootstrap.bundle.min.js&quot;&gt;&lt;/script&gt;\n",
       "    &lt;script src=&quot;https://cdnjs.cloudflare.com/ajax/libs/Leaflet.awesome-markers/2.0.2/leaflet.awesome-markers.js&quot;&gt;&lt;/script&gt;\n",
       "    &lt;link rel=&quot;stylesheet&quot; href=&quot;https://cdn.jsdelivr.net/npm/leaflet@1.9.3/dist/leaflet.css&quot;/&gt;\n",
       "    &lt;link rel=&quot;stylesheet&quot; href=&quot;https://cdn.jsdelivr.net/npm/bootstrap@5.2.2/dist/css/bootstrap.min.css&quot;/&gt;\n",
       "    &lt;link rel=&quot;stylesheet&quot; href=&quot;https://netdna.bootstrapcdn.com/bootstrap/3.0.0/css/bootstrap-glyphicons.css&quot;/&gt;\n",
       "    &lt;link rel=&quot;stylesheet&quot; href=&quot;https://cdn.jsdelivr.net/npm/@fortawesome/fontawesome-free@6.2.0/css/all.min.css&quot;/&gt;\n",
       "    &lt;link rel=&quot;stylesheet&quot; href=&quot;https://cdnjs.cloudflare.com/ajax/libs/Leaflet.awesome-markers/2.0.2/leaflet.awesome-markers.css&quot;/&gt;\n",
       "    &lt;link rel=&quot;stylesheet&quot; href=&quot;https://cdn.jsdelivr.net/gh/python-visualization/folium/folium/templates/leaflet.awesome.rotate.min.css&quot;/&gt;\n",
       "    \n",
       "            &lt;meta name=&quot;viewport&quot; content=&quot;width=device-width,\n",
       "                initial-scale=1.0, maximum-scale=1.0, user-scalable=no&quot; /&gt;\n",
       "            &lt;style&gt;\n",
       "                #map_3d6cbe2843dfd703e472d35abe0d69c5 {\n",
       "                    position: relative;\n",
       "                    width: 100.0%;\n",
       "                    height: 100.0%;\n",
       "                    left: 0.0%;\n",
       "                    top: 0.0%;\n",
       "                }\n",
       "                .leaflet-container { font-size: 1rem; }\n",
       "            &lt;/style&gt;\n",
       "        \n",
       "    \n",
       "                    &lt;style&gt;\n",
       "                        .foliumtooltip {\n",
       "                            \n",
       "                        }\n",
       "                       .foliumtooltip table{\n",
       "                            margin: auto;\n",
       "                        }\n",
       "                        .foliumtooltip tr{\n",
       "                            text-align: left;\n",
       "                        }\n",
       "                        .foliumtooltip th{\n",
       "                            padding: 2px; padding-right: 8px;\n",
       "                        }\n",
       "                    &lt;/style&gt;\n",
       "            \n",
       "    \n",
       "                    &lt;style&gt;\n",
       "                        .foliumtooltip {\n",
       "                            \n",
       "                        }\n",
       "                       .foliumtooltip table{\n",
       "                            margin: auto;\n",
       "                        }\n",
       "                        .foliumtooltip tr{\n",
       "                            text-align: left;\n",
       "                        }\n",
       "                        .foliumtooltip th{\n",
       "                            padding: 2px; padding-right: 8px;\n",
       "                        }\n",
       "                    &lt;/style&gt;\n",
       "            \n",
       "&lt;/head&gt;\n",
       "&lt;body&gt;\n",
       "    \n",
       "    \n",
       "            &lt;div class=&quot;folium-map&quot; id=&quot;map_3d6cbe2843dfd703e472d35abe0d69c5&quot; &gt;&lt;/div&gt;\n",
       "        \n",
       "&lt;/body&gt;\n",
       "&lt;script&gt;\n",
       "    \n",
       "    \n",
       "            var map_3d6cbe2843dfd703e472d35abe0d69c5 = L.map(\n",
       "                &quot;map_3d6cbe2843dfd703e472d35abe0d69c5&quot;,\n",
       "                {\n",
       "                    center: [47.70299668121936, -122.34260267444645],\n",
       "                    crs: L.CRS.EPSG3857,\n",
       "                    ...{\n",
       "  &quot;zoom&quot;: 10,\n",
       "  &quot;zoomControl&quot;: true,\n",
       "  &quot;preferCanvas&quot;: false,\n",
       "}\n",
       "\n",
       "                }\n",
       "            );\n",
       "            L.control.scale().addTo(map_3d6cbe2843dfd703e472d35abe0d69c5);\n",
       "\n",
       "            \n",
       "\n",
       "        \n",
       "    \n",
       "            var tile_layer_772a6923496f2b9edf0e9c91ff678d5a = L.tileLayer(\n",
       "                &quot;https://tile.openstreetmap.org/{z}/{x}/{y}.png&quot;,\n",
       "                {\n",
       "  &quot;minZoom&quot;: 0,\n",
       "  &quot;maxZoom&quot;: 19,\n",
       "  &quot;maxNativeZoom&quot;: 19,\n",
       "  &quot;noWrap&quot;: false,\n",
       "  &quot;attribution&quot;: &quot;\\u0026copy; \\u003ca href=\\&quot;https://www.openstreetmap.org/copyright\\&quot;\\u003eOpenStreetMap\\u003c/a\\u003e contributors&quot;,\n",
       "  &quot;subdomains&quot;: &quot;abc&quot;,\n",
       "  &quot;detectRetina&quot;: false,\n",
       "  &quot;tms&quot;: false,\n",
       "  &quot;opacity&quot;: 1,\n",
       "}\n",
       "\n",
       "            );\n",
       "        \n",
       "    \n",
       "            tile_layer_772a6923496f2b9edf0e9c91ff678d5a.addTo(map_3d6cbe2843dfd703e472d35abe0d69c5);\n",
       "        \n",
       "    \n",
       "            map_3d6cbe2843dfd703e472d35abe0d69c5.fitBounds(\n",
       "                [[47.68512680269164, -122.34285585796424], [47.72086655974709, -122.34234949092868]],\n",
       "                {}\n",
       "            );\n",
       "        \n",
       "    \n",
       "        function geo_json_f054d3819f030d159b9e340db44bfcc1_styler(feature) {\n",
       "            switch(feature.id) {\n",
       "                default:\n",
       "                    return {&quot;fillOpacity&quot;: 0.5, &quot;weight&quot;: 2};\n",
       "            }\n",
       "        }\n",
       "        function geo_json_f054d3819f030d159b9e340db44bfcc1_highlighter(feature) {\n",
       "            switch(feature.id) {\n",
       "                default:\n",
       "                    return {&quot;fillOpacity&quot;: 0.75};\n",
       "            }\n",
       "        }\n",
       "        function geo_json_f054d3819f030d159b9e340db44bfcc1_pointToLayer(feature, latlng) {\n",
       "            var opts = {&quot;bubblingMouseEvents&quot;: true, &quot;color&quot;: &quot;#3388ff&quot;, &quot;dashArray&quot;: null, &quot;dashOffset&quot;: null, &quot;fill&quot;: true, &quot;fillColor&quot;: &quot;#3388ff&quot;, &quot;fillOpacity&quot;: 0.2, &quot;fillRule&quot;: &quot;evenodd&quot;, &quot;lineCap&quot;: &quot;round&quot;, &quot;lineJoin&quot;: &quot;round&quot;, &quot;opacity&quot;: 1.0, &quot;radius&quot;: 2, &quot;stroke&quot;: true, &quot;weight&quot;: 3};\n",
       "            \n",
       "            let style = geo_json_f054d3819f030d159b9e340db44bfcc1_styler(feature)\n",
       "            Object.assign(opts, style)\n",
       "            \n",
       "            return new L.CircleMarker(latlng, opts)\n",
       "        }\n",
       "\n",
       "        function geo_json_f054d3819f030d159b9e340db44bfcc1_onEachFeature(feature, layer) {\n",
       "            layer.on({\n",
       "                mouseout: function(e) {\n",
       "                    if(typeof e.target.setStyle === &quot;function&quot;){\n",
       "                            geo_json_f054d3819f030d159b9e340db44bfcc1.resetStyle(e.target);\n",
       "                    }\n",
       "                },\n",
       "                mouseover: function(e) {\n",
       "                    if(typeof e.target.setStyle === &quot;function&quot;){\n",
       "                        const highlightStyle = geo_json_f054d3819f030d159b9e340db44bfcc1_highlighter(e.target.feature)\n",
       "                        e.target.setStyle(highlightStyle);\n",
       "                    }\n",
       "                },\n",
       "            });\n",
       "        };\n",
       "        var geo_json_f054d3819f030d159b9e340db44bfcc1 = L.geoJson(null, {\n",
       "                onEachFeature: geo_json_f054d3819f030d159b9e340db44bfcc1_onEachFeature,\n",
       "            \n",
       "                style: geo_json_f054d3819f030d159b9e340db44bfcc1_styler,\n",
       "                pointToLayer: geo_json_f054d3819f030d159b9e340db44bfcc1_pointToLayer,\n",
       "            ...{\n",
       "}\n",
       "        });\n",
       "\n",
       "        function geo_json_f054d3819f030d159b9e340db44bfcc1_add (data) {\n",
       "            geo_json_f054d3819f030d159b9e340db44bfcc1\n",
       "                .addData(data);\n",
       "        }\n",
       "            geo_json_f054d3819f030d159b9e340db44bfcc1_add({&quot;bbox&quot;: [-122.34285585796424, 47.68512680269164, -122.34234949092868, 47.72086655974709], &quot;features&quot;: [{&quot;bbox&quot;: [-122.34234949092868, 47.68512680269164, -122.34234949092868, 47.68512680269164], &quot;geometry&quot;: {&quot;coordinates&quot;: [-122.34234949092868, 47.68512680269164], &quot;type&quot;: &quot;Point&quot;}, &quot;id&quot;: &quot;0&quot;, &quot;properties&quot;: {}, &quot;type&quot;: &quot;Feature&quot;}, {&quot;bbox&quot;: [-122.3423626653244, 47.6886564176494, -122.3423626653244, 47.6886564176494], &quot;geometry&quot;: {&quot;coordinates&quot;: [-122.3423626653244, 47.6886564176494], &quot;type&quot;: &quot;Point&quot;}, &quot;id&quot;: &quot;1&quot;, &quot;properties&quot;: {}, &quot;type&quot;: &quot;Feature&quot;}, {&quot;bbox&quot;: [-122.34238861918739, 47.69248611286868, -122.34238861918739, 47.69248611286868], &quot;geometry&quot;: {&quot;coordinates&quot;: [-122.34238861918739, 47.69248611286868], &quot;type&quot;: &quot;Point&quot;}, &quot;id&quot;: &quot;2&quot;, &quot;properties&quot;: {}, &quot;type&quot;: &quot;Feature&quot;}, {&quot;bbox&quot;: [-122.34243565620116, 47.696202557537625, -122.34243565620116, 47.696202557537625], &quot;geometry&quot;: {&quot;coordinates&quot;: [-122.34243565620116, 47.696202557537625], &quot;type&quot;: &quot;Point&quot;}, &quot;id&quot;: &quot;3&quot;, &quot;properties&quot;: {}, &quot;type&quot;: &quot;Feature&quot;}, {&quot;bbox&quot;: [-122.34253711235091, 47.69955496497761, -122.34253711235091, 47.69955496497761], &quot;geometry&quot;: {&quot;coordinates&quot;: [-122.34253711235091, 47.69955496497761], &quot;type&quot;: &quot;Point&quot;}, &quot;id&quot;: &quot;4&quot;, &quot;properties&quot;: {}, &quot;type&quot;: &quot;Feature&quot;}, {&quot;bbox&quot;: [-122.34251359927678, 47.70307957945337, -122.34251359927678, 47.70307957945337], &quot;geometry&quot;: {&quot;coordinates&quot;: [-122.34251359927678, 47.70307957945337], &quot;type&quot;: &quot;Point&quot;}, &quot;id&quot;: &quot;5&quot;, &quot;properties&quot;: {}, &quot;type&quot;: &quot;Feature&quot;}, {&quot;bbox&quot;: [-122.3425621283163, 47.70684672978806, -122.3425621283163, 47.70684672978806], &quot;geometry&quot;: {&quot;coordinates&quot;: [-122.3425621283163, 47.70684672978806], &quot;type&quot;: &quot;Point&quot;}, &quot;id&quot;: &quot;6&quot;, &quot;properties&quot;: {}, &quot;type&quot;: &quot;Feature&quot;}, {&quot;bbox&quot;: [-122.34274143574825, 47.71413480427484, -122.34274143574825, 47.71413480427484], &quot;geometry&quot;: {&quot;coordinates&quot;: [-122.34274143574825, 47.71413480427484], &quot;type&quot;: &quot;Point&quot;}, &quot;id&quot;: &quot;7&quot;, &quot;properties&quot;: {}, &quot;type&quot;: &quot;Feature&quot;}, {&quot;bbox&quot;: [-122.34285585796424, 47.72086655974709, -122.34285585796424, 47.72086655974709], &quot;geometry&quot;: {&quot;coordinates&quot;: [-122.34285585796424, 47.72086655974709], &quot;type&quot;: &quot;Point&quot;}, &quot;id&quot;: &quot;8&quot;, &quot;properties&quot;: {}, &quot;type&quot;: &quot;Feature&quot;}], &quot;type&quot;: &quot;FeatureCollection&quot;});\n",
       "\n",
       "        \n",
       "    \n",
       "    geo_json_f054d3819f030d159b9e340db44bfcc1.bindTooltip(\n",
       "    function(layer){\n",
       "    let div = L.DomUtil.create(&#x27;div&#x27;);\n",
       "    \n",
       "    return div\n",
       "    }\n",
       "    ,{\n",
       "  &quot;sticky&quot;: true,\n",
       "  &quot;className&quot;: &quot;foliumtooltip&quot;,\n",
       "});\n",
       "                     \n",
       "    \n",
       "            geo_json_f054d3819f030d159b9e340db44bfcc1.addTo(map_3d6cbe2843dfd703e472d35abe0d69c5);\n",
       "        \n",
       "    \n",
       "        function geo_json_5eda536c0e3caedd67a62ac0c4ceaabf_styler(feature) {\n",
       "            switch(feature.id) {\n",
       "                default:\n",
       "                    return {&quot;fillOpacity&quot;: 0.5, &quot;weight&quot;: 2};\n",
       "            }\n",
       "        }\n",
       "        function geo_json_5eda536c0e3caedd67a62ac0c4ceaabf_highlighter(feature) {\n",
       "            switch(feature.id) {\n",
       "                default:\n",
       "                    return {&quot;fillOpacity&quot;: 0.75};\n",
       "            }\n",
       "        }\n",
       "        function geo_json_5eda536c0e3caedd67a62ac0c4ceaabf_pointToLayer(feature, latlng) {\n",
       "            var opts = {&quot;bubblingMouseEvents&quot;: true, &quot;color&quot;: &quot;#3388ff&quot;, &quot;dashArray&quot;: null, &quot;dashOffset&quot;: null, &quot;fill&quot;: true, &quot;fillColor&quot;: &quot;#3388ff&quot;, &quot;fillOpacity&quot;: 0.2, &quot;fillRule&quot;: &quot;evenodd&quot;, &quot;lineCap&quot;: &quot;round&quot;, &quot;lineJoin&quot;: &quot;round&quot;, &quot;opacity&quot;: 1.0, &quot;radius&quot;: 2, &quot;stroke&quot;: true, &quot;weight&quot;: 3};\n",
       "            \n",
       "            let style = geo_json_5eda536c0e3caedd67a62ac0c4ceaabf_styler(feature)\n",
       "            Object.assign(opts, style)\n",
       "            \n",
       "            return new L.CircleMarker(latlng, opts)\n",
       "        }\n",
       "\n",
       "        function geo_json_5eda536c0e3caedd67a62ac0c4ceaabf_onEachFeature(feature, layer) {\n",
       "            layer.on({\n",
       "                mouseout: function(e) {\n",
       "                    if(typeof e.target.setStyle === &quot;function&quot;){\n",
       "                            geo_json_5eda536c0e3caedd67a62ac0c4ceaabf.resetStyle(e.target);\n",
       "                    }\n",
       "                },\n",
       "                mouseover: function(e) {\n",
       "                    if(typeof e.target.setStyle === &quot;function&quot;){\n",
       "                        const highlightStyle = geo_json_5eda536c0e3caedd67a62ac0c4ceaabf_highlighter(e.target.feature)\n",
       "                        e.target.setStyle(highlightStyle);\n",
       "                    }\n",
       "                },\n",
       "            });\n",
       "        };\n",
       "        var geo_json_5eda536c0e3caedd67a62ac0c4ceaabf = L.geoJson(null, {\n",
       "                onEachFeature: geo_json_5eda536c0e3caedd67a62ac0c4ceaabf_onEachFeature,\n",
       "            \n",
       "                style: geo_json_5eda536c0e3caedd67a62ac0c4ceaabf_styler,\n",
       "                pointToLayer: geo_json_5eda536c0e3caedd67a62ac0c4ceaabf_pointToLayer,\n",
       "            ...{\n",
       "}\n",
       "        });\n",
       "\n",
       "        function geo_json_5eda536c0e3caedd67a62ac0c4ceaabf_add (data) {\n",
       "            geo_json_5eda536c0e3caedd67a62ac0c4ceaabf\n",
       "                .addData(data);\n",
       "        }\n",
       "            geo_json_5eda536c0e3caedd67a62ac0c4ceaabf_add({&quot;bbox&quot;: [-122.34484691221628, 47.683729430644014, -122.34433918947462, 47.7194691813143], &quot;features&quot;: [{&quot;bbox&quot;: [-122.34433918947462, 47.683729430644014, -122.34433918947462, 47.683729430644014], &quot;geometry&quot;: {&quot;coordinates&quot;: [-122.34433918947462, 47.683729430644014], &quot;type&quot;: &quot;Point&quot;}, &quot;id&quot;: &quot;260&quot;, &quot;properties&quot;: {&quot;ACCESSIBIL&quot;: &quot;YES&quot;, &quot;ACCESSORY_&quot;: &quot;None&quot;, &quot;AUTH_CODE&quot;: &quot;SEA&quot;, &quot;AUTH_NAME&quot;: &quot;Seattle&quot;, &quot;AWNING&quot;: &quot;NO&quot;, &quot;BAY_CODE&quot;: null, &quot;BEARING_CO&quot;: &quot;N&quot;, &quot;BIKE_RACK&quot;: &quot;NO&quot;, &quot;CF_CROSS_S&quot;: &quot;N 76th St&quot;, &quot;CF_DIST_FR&quot;: 115.0, &quot;CF_INTERSE&quot;: &quot;NS&quot;, &quot;CHANGE_NUM&quot;: 157, &quot;CURB&quot;: &quot;UNK&quot;, &quot;CURBPAINT&quot;: &quot;Unknown&quot;, &quot;CURBPAINTL&quot;: 80.0, &quot;CURB_HEIGH&quot;: 0.0, &quot;CURRENT_NE&quot;: &quot;IN SERVICE&quot;, &quot;DATE_CREAT&quot;: &quot;1981-05-15&quot;, &quot;DATE_LAST_&quot;: &quot;2024-11-19&quot;, &quot;DB_MOD_DAT&quot;: &quot;2024-12-23&quot;, &quot;DISPLACEME&quot;: 4396.0, &quot;DIST_FROM_&quot;: 115.0, &quot;EFFECTIVE_&quot;: &quot;2018-01-18&quot;, &quot;FARE_ZONE&quot;: 1, &quot;FRDOORLAND&quot;: &quot;Unknown&quot;, &quot;FRDOORSIDE&quot;: 0.0, &quot;GISOBJID&quot;: 601.0, &quot;HASTUS_CRO&quot;: &quot;N 76th St&quot;, &quot;IMT_CONNEC&quot;: null, &quot;INFOSIGN&quot;: &quot;None&quot;, &quot;INFOSIGN_A&quot;: &quot;None&quot;, &quot;INTERSECTI&quot;: &quot;Near side&quot;, &quot;IN_SERVICE&quot;: &quot;Y&quot;, &quot;JURISDICTI&quot;: &quot;SEA&quot;, &quot;KCM_MANAGE&quot;: &quot;YES&quot;, &quot;MINOR_CHAN&quot;: 8, &quot;NUM_SHELTE&quot;: 0, &quot;OBJECTID&quot;: 261, &quot;ON_STREET_&quot;: &quot;Aurora Ave N&quot;, &quot;ROUTESIGN&quot;: &quot;A1 \\u003c=2 rts&quot;, &quot;ROUTESIGN_&quot;: &quot;KCM&quot;, &quot;ROUTE_LIST&quot;: &quot;E&quot;, &quot;SCHEDULE_H&quot;: &quot;Single&quot;, &quot;SIGNPOST&quot;: &quot;2in metal&quot;, &quot;SIGNPOST_A&quot;: &quot;Unknown&quot;, &quot;SIGN_MOUNT&quot;: &quot;Away&quot;, &quot;STOP_ID&quot;: 7690, &quot;STOP_STATU&quot;: &quot;ACT&quot;, &quot;STOP_TYPE&quot;: &quot;REG&quot;, &quot;TRANS_LINK&quot;: 368425, &quot;TRF_DISTRI&quot;: &quot;NW&quot;, &quot;XCOORD&quot;: 1268230.4, &quot;XCOORD_OFF&quot;: 1268255, &quot;YCOORD&quot;: 253055.3, &quot;YCOORD_OFF&quot;: 253055.0, &quot;ZIPCODE&quot;: 98103}, &quot;type&quot;: &quot;Feature&quot;}, {&quot;bbox&quot;: [-122.34435249866571, 47.687259045590366, -122.34435249866571, 47.687259045590366], &quot;geometry&quot;: {&quot;coordinates&quot;: [-122.34435249866571, 47.687259045590366], &quot;type&quot;: &quot;Point&quot;}, &quot;id&quot;: &quot;262&quot;, &quot;properties&quot;: {&quot;ACCESSIBIL&quot;: &quot;YES&quot;, &quot;ACCESSORY_&quot;: &quot;None&quot;, &quot;AUTH_CODE&quot;: &quot;SEA&quot;, &quot;AUTH_NAME&quot;: &quot;Seattle&quot;, &quot;AWNING&quot;: &quot;NO&quot;, &quot;BAY_CODE&quot;: null, &quot;BEARING_CO&quot;: &quot;N&quot;, &quot;BIKE_RACK&quot;: &quot;NO&quot;, &quot;CF_CROSS_S&quot;: &quot;N 80th St&quot;, &quot;CF_DIST_FR&quot;: 112.0, &quot;CF_INTERSE&quot;: &quot;FS&quot;, &quot;CHANGE_NUM&quot;: 157, &quot;CURB&quot;: &quot;UNK&quot;, &quot;CURBPAINT&quot;: &quot;Unknown&quot;, &quot;CURBPAINTL&quot;: 70.0, &quot;CURB_HEIGH&quot;: 0.0, &quot;CURRENT_NE&quot;: &quot;IN SERVICE&quot;, &quot;DATE_CREAT&quot;: &quot;1981-05-15&quot;, &quot;DATE_LAST_&quot;: &quot;2024-11-19&quot;, &quot;DB_MOD_DAT&quot;: &quot;2024-12-23&quot;, &quot;DISPLACEME&quot;: 112.0, &quot;DIST_FROM_&quot;: 112.0, &quot;EFFECTIVE_&quot;: &quot;2024-09-14&quot;, &quot;FARE_ZONE&quot;: 1, &quot;FRDOORLAND&quot;: &quot;Unknown&quot;, &quot;FRDOORSIDE&quot;: 0.0, &quot;GISOBJID&quot;: 602.0, &quot;HASTUS_CRO&quot;: &quot;N 80th St&quot;, &quot;IMT_CONNEC&quot;: null, &quot;INFOSIGN&quot;: &quot;None&quot;, &quot;INFOSIGN_A&quot;: &quot;None&quot;, &quot;INTERSECTI&quot;: &quot;Far side&quot;, &quot;IN_SERVICE&quot;: &quot;Y&quot;, &quot;JURISDICTI&quot;: &quot;SEA&quot;, &quot;KCM_MANAGE&quot;: &quot;YES&quot;, &quot;MINOR_CHAN&quot;: 8, &quot;NUM_SHELTE&quot;: 0, &quot;OBJECTID&quot;: 263, &quot;ON_STREET_&quot;: &quot;Aurora Ave N&quot;, &quot;ROUTESIGN&quot;: &quot;A1 \\u003c=2 rts&quot;, &quot;ROUTESIGN_&quot;: &quot;KCM&quot;, &quot;ROUTE_LIST&quot;: &quot;E&quot;, &quot;SCHEDULE_H&quot;: &quot;None&quot;, &quot;SIGNPOST&quot;: &quot;2in metal&quot;, &quot;SIGNPOST_A&quot;: &quot;Unknown&quot;, &quot;SIGN_MOUNT&quot;: &quot;Away&quot;, &quot;STOP_ID&quot;: 7710, &quot;STOP_STATU&quot;: &quot;ACT&quot;, &quot;STOP_TYPE&quot;: &quot;REG&quot;, &quot;TRANS_LINK&quot;: 368431, &quot;TRF_DISTRI&quot;: &quot;NW&quot;, &quot;XCOORD&quot;: 1268251.6, &quot;XCOORD_OFF&quot;: 1268277, &quot;YCOORD&quot;: 254342.6, &quot;YCOORD_OFF&quot;: 254342.3, &quot;ZIPCODE&quot;: 98103}, &quot;type&quot;: &quot;Feature&quot;}, {&quot;bbox&quot;: [-122.34437859849116, 47.69108874059965, -122.34437859849116, 47.69108874059965], &quot;geometry&quot;: {&quot;coordinates&quot;: [-122.34437859849116, 47.69108874059965], &quot;type&quot;: &quot;Point&quot;}, &quot;id&quot;: &quot;266&quot;, &quot;properties&quot;: {&quot;ACCESSIBIL&quot;: &quot;YES&quot;, &quot;ACCESSORY_&quot;: &quot;None&quot;, &quot;AUTH_CODE&quot;: &quot;SEA&quot;, &quot;AUTH_NAME&quot;: &quot;Seattle&quot;, &quot;AWNING&quot;: &quot;NO&quot;, &quot;BAY_CODE&quot;: null, &quot;BEARING_CO&quot;: &quot;N&quot;, &quot;BIKE_RACK&quot;: &quot;NO&quot;, &quot;CF_CROSS_S&quot;: &quot;N 85th St&quot;, &quot;CF_DIST_FR&quot;: 191.5, &quot;CF_INTERSE&quot;: &quot;FS&quot;, &quot;CHANGE_NUM&quot;: 157, &quot;CURB&quot;: &quot;UNK&quot;, &quot;CURBPAINT&quot;: &quot;Unknown&quot;, &quot;CURBPAINTL&quot;: 80.0, &quot;CURB_HEIGH&quot;: 0.0, &quot;CURRENT_NE&quot;: &quot;IN SERVICE&quot;, &quot;DATE_CREAT&quot;: &quot;1981-05-15&quot;, &quot;DATE_LAST_&quot;: &quot;2024-11-19&quot;, &quot;DB_MOD_DAT&quot;: &quot;2024-12-23&quot;, &quot;DISPLACEME&quot;: 191.5, &quot;DIST_FROM_&quot;: 191.5, &quot;EFFECTIVE_&quot;: &quot;2020-02-05&quot;, &quot;FARE_ZONE&quot;: 1, &quot;FRDOORLAND&quot;: &quot;Unknown&quot;, &quot;FRDOORSIDE&quot;: 0.0, &quot;GISOBJID&quot;: 603.0, &quot;HASTUS_CRO&quot;: &quot;N 85th St&quot;, &quot;IMT_CONNEC&quot;: null, &quot;INFOSIGN&quot;: &quot;None&quot;, &quot;INFOSIGN_A&quot;: &quot;None&quot;, &quot;INTERSECTI&quot;: &quot;Far side&quot;, &quot;IN_SERVICE&quot;: &quot;Y&quot;, &quot;JURISDICTI&quot;: &quot;SEA&quot;, &quot;KCM_MANAGE&quot;: &quot;YES&quot;, &quot;MINOR_CHAN&quot;: 8, &quot;NUM_SHELTE&quot;: 1, &quot;OBJECTID&quot;: 267, &quot;ON_STREET_&quot;: &quot;Aurora Ave N&quot;, &quot;ROUTESIGN&quot;: &quot;A1 \\u003c=2 rts&quot;, &quot;ROUTESIGN_&quot;: &quot;KCM&quot;, &quot;ROUTE_LIST&quot;: &quot;E&quot;, &quot;SCHEDULE_H&quot;: &quot;Single&quot;, &quot;SIGNPOST&quot;: &quot;2in metal&quot;, &quot;SIGNPOST_A&quot;: &quot;Unknown&quot;, &quot;SIGN_MOUNT&quot;: &quot;Away&quot;, &quot;STOP_ID&quot;: 7730, &quot;STOP_STATU&quot;: &quot;ACT&quot;, &quot;STOP_TYPE&quot;: &quot;REG&quot;, &quot;TRANS_LINK&quot;: 368471, &quot;TRF_DISTRI&quot;: &quot;NW&quot;, &quot;XCOORD&quot;: 1268273.0, &quot;XCOORD_OFF&quot;: 1268298, &quot;YCOORD&quot;: 255739.4, &quot;YCOORD_OFF&quot;: 255739.1, &quot;ZIPCODE&quot;: 98103}, &quot;type&quot;: &quot;Feature&quot;}, {&quot;bbox&quot;: [-122.34442577658399, 47.69480518468918, -122.34442577658399, 47.69480518468918], &quot;geometry&quot;: {&quot;coordinates&quot;: [-122.34442577658399, 47.69480518468918], &quot;type&quot;: &quot;Point&quot;}, &quot;id&quot;: &quot;268&quot;, &quot;properties&quot;: {&quot;ACCESSIBIL&quot;: &quot;YES&quot;, &quot;ACCESSORY_&quot;: &quot;None&quot;, &quot;AUTH_CODE&quot;: &quot;SEA&quot;, &quot;AUTH_NAME&quot;: &quot;Seattle&quot;, &quot;AWNING&quot;: &quot;NO&quot;, &quot;BAY_CODE&quot;: null, &quot;BEARING_CO&quot;: &quot;N&quot;, &quot;BIKE_RACK&quot;: &quot;NO&quot;, &quot;CF_CROSS_S&quot;: &quot;N 91st St&quot;, &quot;CF_DIST_FR&quot;: 40.0, &quot;CF_INTERSE&quot;: &quot;NS&quot;, &quot;CHANGE_NUM&quot;: 157, &quot;CURB&quot;: &quot;YES&quot;, &quot;CURBPAINT&quot;: &quot;YelRed-Stop&quot;, &quot;CURBPAINTL&quot;: 115.0, &quot;CURB_HEIGH&quot;: 6.0, &quot;CURRENT_NE&quot;: &quot;IN SERVICE&quot;, &quot;DATE_CREAT&quot;: &quot;1981-05-15&quot;, &quot;DATE_LAST_&quot;: &quot;2024-11-19&quot;, &quot;DB_MOD_DAT&quot;: &quot;2024-12-23&quot;, &quot;DISPLACEME&quot;: 2600.6, &quot;DIST_FROM_&quot;: 40.0, &quot;EFFECTIVE_&quot;: &quot;2022-09-17&quot;, &quot;FARE_ZONE&quot;: 1, &quot;FRDOORLAND&quot;: &quot;ADA Access&quot;, &quot;FRDOORSIDE&quot;: 0.0, &quot;GISOBJID&quot;: 604.0, &quot;HASTUS_CRO&quot;: &quot;N 91st St&quot;, &quot;IMT_CONNEC&quot;: null, &quot;INFOSIGN&quot;: &quot;None&quot;, &quot;INFOSIGN_A&quot;: &quot;None&quot;, &quot;INTERSECTI&quot;: &quot;Near side&quot;, &quot;IN_SERVICE&quot;: &quot;Y&quot;, &quot;JURISDICTI&quot;: &quot;SEA&quot;, &quot;KCM_MANAGE&quot;: &quot;YES&quot;, &quot;MINOR_CHAN&quot;: 8, &quot;NUM_SHELTE&quot;: 1, &quot;OBJECTID&quot;: 269, &quot;ON_STREET_&quot;: &quot;Aurora Ave N&quot;, &quot;ROUTESIGN&quot;: &quot;A1 \\u003c=2 rts&quot;, &quot;ROUTESIGN_&quot;: &quot;KCM&quot;, &quot;ROUTE_LIST&quot;: &quot;E&quot;, &quot;SCHEDULE_H&quot;: &quot;Single&quot;, &quot;SIGNPOST&quot;: &quot;2in metal&quot;, &quot;SIGNPOST_A&quot;: &quot;Base plate&quot;, &quot;SIGN_MOUNT&quot;: &quot;Away&quot;, &quot;STOP_ID&quot;: 7750, &quot;STOP_STATU&quot;: &quot;ACT&quot;, &quot;STOP_TYPE&quot;: &quot;REG&quot;, &quot;TRANS_LINK&quot;: 368448, &quot;TRF_DISTRI&quot;: &quot;NW&quot;, &quot;XCOORD&quot;: 1268288.2, &quot;XCOORD_OFF&quot;: 1268313, &quot;YCOORD&quot;: 257095.0, &quot;YCOORD_OFF&quot;: 257094.7, &quot;ZIPCODE&quot;: 98103}, &quot;type&quot;: &quot;Feature&quot;}, {&quot;bbox&quot;: [-122.34452735842333, 47.698157590581, -122.34452735842333, 47.698157590581], &quot;geometry&quot;: {&quot;coordinates&quot;: [-122.34452735842333, 47.698157590581], &quot;type&quot;: &quot;Point&quot;}, &quot;id&quot;: &quot;295&quot;, &quot;properties&quot;: {&quot;ACCESSIBIL&quot;: &quot;YES&quot;, &quot;ACCESSORY_&quot;: &quot;None&quot;, &quot;AUTH_CODE&quot;: &quot;SEA&quot;, &quot;AUTH_NAME&quot;: &quot;Seattle&quot;, &quot;AWNING&quot;: &quot;NO&quot;, &quot;BAY_CODE&quot;: null, &quot;BEARING_CO&quot;: &quot;N&quot;, &quot;BIKE_RACK&quot;: &quot;NO&quot;, &quot;CF_CROSS_S&quot;: &quot;N 95th St&quot;, &quot;CF_DIST_FR&quot;: 125.0, &quot;CF_INTERSE&quot;: &quot;FS&quot;, &quot;CHANGE_NUM&quot;: 157, &quot;CURB&quot;: &quot;UNK&quot;, &quot;CURBPAINT&quot;: &quot;Unknown&quot;, &quot;CURBPAINTL&quot;: 80.0, &quot;CURB_HEIGH&quot;: 0.0, &quot;CURRENT_NE&quot;: &quot;IN SERVICE&quot;, &quot;DATE_CREAT&quot;: &quot;1981-05-15&quot;, &quot;DATE_LAST_&quot;: &quot;2024-11-19&quot;, &quot;DB_MOD_DAT&quot;: &quot;2024-12-23&quot;, &quot;DISPLACEME&quot;: 125.0, &quot;DIST_FROM_&quot;: 125.0, &quot;EFFECTIVE_&quot;: &quot;2020-11-24&quot;, &quot;FARE_ZONE&quot;: 1, &quot;FRDOORLAND&quot;: &quot;Unknown&quot;, &quot;FRDOORSIDE&quot;: 0.0, &quot;GISOBJID&quot;: 605.0, &quot;HASTUS_CRO&quot;: &quot;N 95th St&quot;, &quot;IMT_CONNEC&quot;: null, &quot;INFOSIGN&quot;: &quot;None&quot;, &quot;INFOSIGN_A&quot;: &quot;None&quot;, &quot;INTERSECTI&quot;: &quot;Far side&quot;, &quot;IN_SERVICE&quot;: &quot;Y&quot;, &quot;JURISDICTI&quot;: &quot;SEA&quot;, &quot;KCM_MANAGE&quot;: &quot;YES&quot;, &quot;MINOR_CHAN&quot;: 8, &quot;NUM_SHELTE&quot;: 0, &quot;OBJECTID&quot;: 296, &quot;ON_STREET_&quot;: &quot;Aurora Ave N&quot;, &quot;ROUTESIGN&quot;: &quot;A1 \\u003c=2 rts&quot;, &quot;ROUTESIGN_&quot;: &quot;KCM&quot;, &quot;ROUTE_LIST&quot;: &quot;E&quot;, &quot;SCHEDULE_H&quot;: &quot;None&quot;, &quot;SIGNPOST&quot;: &quot;2in metal&quot;, &quot;SIGNPOST_A&quot;: &quot;Unknown&quot;, &quot;SIGN_MOUNT&quot;: &quot;Away&quot;, &quot;STOP_ID&quot;: 7770, &quot;STOP_STATU&quot;: &quot;ACT&quot;, &quot;STOP_TYPE&quot;: &quot;REG&quot;, &quot;TRANS_LINK&quot;: 144095, &quot;TRF_DISTRI&quot;: &quot;NW&quot;, &quot;XCOORD&quot;: 1268287.4, &quot;XCOORD_OFF&quot;: 1268312, &quot;YCOORD&quot;: 258318.1, &quot;YCOORD_OFF&quot;: 258317.8, &quot;ZIPCODE&quot;: 98103}, &quot;type&quot;: &quot;Feature&quot;}, {&quot;bbox&quot;: [-122.3445039810145, 47.70168220570689, -122.3445039810145, 47.70168220570689], &quot;geometry&quot;: {&quot;coordinates&quot;: [-122.3445039810145, 47.70168220570689], &quot;type&quot;: &quot;Point&quot;}, &quot;id&quot;: &quot;297&quot;, &quot;properties&quot;: {&quot;ACCESSIBIL&quot;: &quot;YES&quot;, &quot;ACCESSORY_&quot;: &quot;None&quot;, &quot;AUTH_CODE&quot;: &quot;SEA&quot;, &quot;AUTH_NAME&quot;: &quot;Seattle&quot;, &quot;AWNING&quot;: &quot;NO&quot;, &quot;BAY_CODE&quot;: null, &quot;BEARING_CO&quot;: &quot;N&quot;, &quot;BIKE_RACK&quot;: &quot;NO&quot;, &quot;CF_CROSS_S&quot;: &quot;N 100th St&quot;, &quot;CF_DIST_FR&quot;: 89.3, &quot;CF_INTERSE&quot;: &quot;FS&quot;, &quot;CHANGE_NUM&quot;: 157, &quot;CURB&quot;: &quot;YES&quot;, &quot;CURBPAINT&quot;: &quot;YelRed-Stop&quot;, &quot;CURBPAINTL&quot;: 80.0, &quot;CURB_HEIGH&quot;: 6.0, &quot;CURRENT_NE&quot;: &quot;IN SERVICE&quot;, &quot;DATE_CREAT&quot;: &quot;1981-05-15&quot;, &quot;DATE_LAST_&quot;: &quot;2024-11-19&quot;, &quot;DB_MOD_DAT&quot;: &quot;2024-12-23&quot;, &quot;DISPLACEME&quot;: 89.3, &quot;DIST_FROM_&quot;: 89.3, &quot;EFFECTIVE_&quot;: &quot;2018-01-18&quot;, &quot;FARE_ZONE&quot;: 1, &quot;FRDOORLAND&quot;: &quot;ADA Access&quot;, &quot;FRDOORSIDE&quot;: 0.0, &quot;GISOBJID&quot;: 606.0, &quot;HASTUS_CRO&quot;: &quot;N 100th St&quot;, &quot;IMT_CONNEC&quot;: null, &quot;INFOSIGN&quot;: &quot;None&quot;, &quot;INFOSIGN_A&quot;: &quot;None&quot;, &quot;INTERSECTI&quot;: &quot;Far side&quot;, &quot;IN_SERVICE&quot;: &quot;Y&quot;, &quot;JURISDICTI&quot;: &quot;SEA&quot;, &quot;KCM_MANAGE&quot;: &quot;YES&quot;, &quot;MINOR_CHAN&quot;: 8, &quot;NUM_SHELTE&quot;: 1, &quot;OBJECTID&quot;: 298, &quot;ON_STREET_&quot;: &quot;Aurora Ave N&quot;, &quot;ROUTESIGN&quot;: &quot;A1 \\u003c=2 rts&quot;, &quot;ROUTESIGN_&quot;: &quot;KCM&quot;, &quot;ROUTE_LIST&quot;: &quot;E&quot;, &quot;SCHEDULE_H&quot;: &quot;Single&quot;, &quot;SIGNPOST&quot;: &quot;Light&quot;, &quot;SIGNPOST_A&quot;: &quot;Band&quot;, &quot;SIGN_MOUNT&quot;: &quot;Away&quot;, &quot;STOP_ID&quot;: 7790, &quot;STOP_STATU&quot;: &quot;ACT&quot;, &quot;STOP_TYPE&quot;: &quot;REG&quot;, &quot;TRANS_LINK&quot;: 368490, &quot;TRF_DISTRI&quot;: &quot;NW&quot;, &quot;XCOORD&quot;: 1268317.9, &quot;XCOORD_OFF&quot;: 1268343, &quot;YCOORD&quot;: 259603.4, &quot;YCOORD_OFF&quot;: 259603.1, &quot;ZIPCODE&quot;: 98133}, &quot;type&quot;: &quot;Feature&quot;}, {&quot;bbox&quot;: [-122.34455265309363, 47.70544935545624, -122.34455265309363, 47.70544935545624], &quot;geometry&quot;: {&quot;coordinates&quot;: [-122.34455265309363, 47.70544935545624], &quot;type&quot;: &quot;Point&quot;}, &quot;id&quot;: &quot;299&quot;, &quot;properties&quot;: {&quot;ACCESSIBIL&quot;: &quot;YES&quot;, &quot;ACCESSORY_&quot;: &quot;None&quot;, &quot;AUTH_CODE&quot;: &quot;SEA&quot;, &quot;AUTH_NAME&quot;: &quot;Seattle&quot;, &quot;AWNING&quot;: &quot;NO&quot;, &quot;BAY_CODE&quot;: null, &quot;BEARING_CO&quot;: &quot;N&quot;, &quot;BIKE_RACK&quot;: &quot;NO&quot;, &quot;CF_CROSS_S&quot;: &quot;N Northgate Way&quot;, &quot;CF_DIST_FR&quot;: 143.0, &quot;CF_INTERSE&quot;: &quot;FS&quot;, &quot;CHANGE_NUM&quot;: 157, &quot;CURB&quot;: &quot;UNK&quot;, &quot;CURBPAINT&quot;: &quot;Unknown&quot;, &quot;CURBPAINTL&quot;: 115.0, &quot;CURB_HEIGH&quot;: 0.0, &quot;CURRENT_NE&quot;: &quot;IN SERVICE&quot;, &quot;DATE_CREAT&quot;: &quot;1981-05-15&quot;, &quot;DATE_LAST_&quot;: &quot;2024-11-19&quot;, &quot;DB_MOD_DAT&quot;: &quot;2024-12-23&quot;, &quot;DISPLACEME&quot;: 143.0, &quot;DIST_FROM_&quot;: 143.0, &quot;EFFECTIVE_&quot;: &quot;2022-12-13&quot;, &quot;FARE_ZONE&quot;: 1, &quot;FRDOORLAND&quot;: &quot;Unknown&quot;, &quot;FRDOORSIDE&quot;: 0.0, &quot;GISOBJID&quot;: 607.0, &quot;HASTUS_CRO&quot;: &quot;N Northgate Way&quot;, &quot;IMT_CONNEC&quot;: null, &quot;INFOSIGN&quot;: &quot;None&quot;, &quot;INFOSIGN_A&quot;: &quot;None&quot;, &quot;INTERSECTI&quot;: &quot;Far side&quot;, &quot;IN_SERVICE&quot;: &quot;Y&quot;, &quot;JURISDICTI&quot;: &quot;SEA&quot;, &quot;KCM_MANAGE&quot;: &quot;YES&quot;, &quot;MINOR_CHAN&quot;: 8, &quot;NUM_SHELTE&quot;: 1, &quot;OBJECTID&quot;: 300, &quot;ON_STREET_&quot;: &quot;Aurora Ave N&quot;, &quot;ROUTESIGN&quot;: &quot;A1 \\u003c=2 rts&quot;, &quot;ROUTESIGN_&quot;: &quot;KCM&quot;, &quot;ROUTE_LIST&quot;: &quot;E&quot;, &quot;SCHEDULE_H&quot;: &quot;Single&quot;, &quot;SIGNPOST&quot;: &quot;2in metal&quot;, &quot;SIGNPOST_A&quot;: &quot;Unknown&quot;, &quot;SIGN_MOUNT&quot;: &quot;Away&quot;, &quot;STOP_ID&quot;: 7810, &quot;STOP_STATU&quot;: &quot;ACT&quot;, &quot;STOP_TYPE&quot;: &quot;REG&quot;, &quot;TRANS_LINK&quot;: 368504, &quot;TRF_DISTRI&quot;: &quot;NW&quot;, &quot;XCOORD&quot;: 1268333.4, &quot;XCOORD_OFF&quot;: 1268358, &quot;YCOORD&quot;: 260977.5, &quot;YCOORD_OFF&quot;: 260977.2, &quot;ZIPCODE&quot;: 98133}, &quot;type&quot;: &quot;Feature&quot;}, {&quot;bbox&quot;: [-122.34473223501618, 47.71273742733618, -122.34473223501618, 47.71273742733618], &quot;geometry&quot;: {&quot;coordinates&quot;: [-122.34473223501618, 47.71273742733618], &quot;type&quot;: &quot;Point&quot;}, &quot;id&quot;: &quot;303&quot;, &quot;properties&quot;: {&quot;ACCESSIBIL&quot;: &quot;YES&quot;, &quot;ACCESSORY_&quot;: &quot;None&quot;, &quot;AUTH_CODE&quot;: &quot;SEA&quot;, &quot;AUTH_NAME&quot;: &quot;Seattle&quot;, &quot;AWNING&quot;: &quot;NO&quot;, &quot;BAY_CODE&quot;: null, &quot;BEARING_CO&quot;: &quot;N&quot;, &quot;BIKE_RACK&quot;: &quot;NO&quot;, &quot;CF_CROSS_S&quot;: &quot;N 115th St&quot;, &quot;CF_DIST_FR&quot;: 150.0, &quot;CF_INTERSE&quot;: &quot;FS&quot;, &quot;CHANGE_NUM&quot;: 157, &quot;CURB&quot;: &quot;UNK&quot;, &quot;CURBPAINT&quot;: &quot;Unknown&quot;, &quot;CURBPAINTL&quot;: 80.0, &quot;CURB_HEIGH&quot;: 0.0, &quot;CURRENT_NE&quot;: &quot;IN SERVICE&quot;, &quot;DATE_CREAT&quot;: &quot;1981-05-15&quot;, &quot;DATE_LAST_&quot;: &quot;2024-11-19&quot;, &quot;DB_MOD_DAT&quot;: &quot;2024-12-23&quot;, &quot;DISPLACEME&quot;: 2652.0, &quot;DIST_FROM_&quot;: 150.0, &quot;EFFECTIVE_&quot;: &quot;2018-01-18&quot;, &quot;FARE_ZONE&quot;: 1, &quot;FRDOORLAND&quot;: &quot;Unknown&quot;, &quot;FRDOORSIDE&quot;: 0.0, &quot;GISOBJID&quot;: 609.0, &quot;HASTUS_CRO&quot;: &quot;N 115th St&quot;, &quot;IMT_CONNEC&quot;: null, &quot;INFOSIGN&quot;: &quot;None&quot;, &quot;INFOSIGN_A&quot;: &quot;None&quot;, &quot;INTERSECTI&quot;: &quot;Far side&quot;, &quot;IN_SERVICE&quot;: &quot;Y&quot;, &quot;JURISDICTI&quot;: &quot;SEA&quot;, &quot;KCM_MANAGE&quot;: &quot;YES&quot;, &quot;MINOR_CHAN&quot;: 8, &quot;NUM_SHELTE&quot;: 0, &quot;OBJECTID&quot;: 304, &quot;ON_STREET_&quot;: &quot;Aurora Ave N&quot;, &quot;ROUTESIGN&quot;: &quot;Single&quot;, &quot;ROUTESIGN_&quot;: &quot;KCM&quot;, &quot;ROUTE_LIST&quot;: &quot;E&quot;, &quot;SCHEDULE_H&quot;: &quot;None&quot;, &quot;SIGNPOST&quot;: &quot;2in metal&quot;, &quot;SIGNPOST_A&quot;: &quot;Unknown&quot;, &quot;SIGN_MOUNT&quot;: &quot;Toward&quot;, &quot;STOP_ID&quot;: 7850, &quot;STOP_STATU&quot;: &quot;ACT&quot;, &quot;STOP_TYPE&quot;: &quot;REG&quot;, &quot;TRANS_LINK&quot;: 117948, &quot;TRF_DISTRI&quot;: &quot;NW&quot;, &quot;XCOORD&quot;: 1268340.7, &quot;XCOORD_OFF&quot;: 1268366, &quot;YCOORD&quot;: 263636.0, &quot;YCOORD_OFF&quot;: 263636.0, &quot;ZIPCODE&quot;: 98133}, &quot;type&quot;: &quot;Feature&quot;}, {&quot;bbox&quot;: [-122.34484691221628, 47.7194691813143, -122.34484691221628, 47.7194691813143], &quot;geometry&quot;: {&quot;coordinates&quot;: [-122.34484691221628, 47.7194691813143], &quot;type&quot;: &quot;Point&quot;}, &quot;id&quot;: &quot;306&quot;, &quot;properties&quot;: {&quot;ACCESSIBIL&quot;: &quot;YES&quot;, &quot;ACCESSORY_&quot;: &quot;None&quot;, &quot;AUTH_CODE&quot;: &quot;SEA&quot;, &quot;AUTH_NAME&quot;: &quot;Seattle&quot;, &quot;AWNING&quot;: &quot;NO&quot;, &quot;BAY_CODE&quot;: null, &quot;BEARING_CO&quot;: &quot;N&quot;, &quot;BIKE_RACK&quot;: &quot;NO&quot;, &quot;CF_CROSS_S&quot;: &quot;N 125th St&quot;, &quot;CF_DIST_FR&quot;: 39.9, &quot;CF_INTERSE&quot;: &quot;NS&quot;, &quot;CHANGE_NUM&quot;: 157, &quot;CURB&quot;: &quot;UNK&quot;, &quot;CURBPAINT&quot;: &quot;Unknown&quot;, &quot;CURBPAINTL&quot;: 80.0, &quot;CURB_HEIGH&quot;: 0.0, &quot;CURRENT_NE&quot;: &quot;IN SERVICE&quot;, &quot;DATE_CREAT&quot;: &quot;1981-05-15&quot;, &quot;DATE_LAST_&quot;: &quot;2024-11-19&quot;, &quot;DB_MOD_DAT&quot;: &quot;2024-12-23&quot;, &quot;DISPLACEME&quot;: 17849.1, &quot;DIST_FROM_&quot;: 39.9, &quot;EFFECTIVE_&quot;: &quot;2013-10-14&quot;, &quot;FARE_ZONE&quot;: 1, &quot;FRDOORLAND&quot;: &quot;Unknown&quot;, &quot;FRDOORSIDE&quot;: 0.0, &quot;GISOBJID&quot;: 610.0, &quot;HASTUS_CRO&quot;: &quot;N 125th St&quot;, &quot;IMT_CONNEC&quot;: null, &quot;INFOSIGN&quot;: &quot;None&quot;, &quot;INFOSIGN_A&quot;: &quot;None&quot;, &quot;INTERSECTI&quot;: &quot;Near side&quot;, &quot;IN_SERVICE&quot;: &quot;Y&quot;, &quot;JURISDICTI&quot;: &quot;SEA&quot;, &quot;KCM_MANAGE&quot;: &quot;YES&quot;, &quot;MINOR_CHAN&quot;: 8, &quot;NUM_SHELTE&quot;: 0, &quot;OBJECTID&quot;: 307, &quot;ON_STREET_&quot;: &quot;Aurora Ave N&quot;, &quot;ROUTESIGN&quot;: &quot;A1 \\u003c=2 rts&quot;, &quot;ROUTESIGN_&quot;: &quot;KCM&quot;, &quot;ROUTE_LIST&quot;: &quot;E&quot;, &quot;SCHEDULE_H&quot;: &quot;Single&quot;, &quot;SIGNPOST&quot;: &quot;2in metal&quot;, &quot;SIGNPOST_A&quot;: &quot;Unknown&quot;, &quot;SIGN_MOUNT&quot;: &quot;Away&quot;, &quot;STOP_ID&quot;: 7880, &quot;STOP_STATU&quot;: &quot;ACT&quot;, &quot;STOP_TYPE&quot;: &quot;REG&quot;, &quot;TRANS_LINK&quot;: 368505, &quot;TRF_DISTRI&quot;: &quot;NW&quot;, &quot;XCOORD&quot;: 1268360.7, &quot;XCOORD_OFF&quot;: 1268386, &quot;YCOORD&quot;: 266091.9, &quot;YCOORD_OFF&quot;: 266091.6, &quot;ZIPCODE&quot;: 98133}, &quot;type&quot;: &quot;Feature&quot;}], &quot;type&quot;: &quot;FeatureCollection&quot;});\n",
       "\n",
       "        \n",
       "    \n",
       "    geo_json_5eda536c0e3caedd67a62ac0c4ceaabf.bindTooltip(\n",
       "    function(layer){\n",
       "    let div = L.DomUtil.create(&#x27;div&#x27;);\n",
       "    \n",
       "    let handleObject = feature=&gt;typeof(feature)==&#x27;object&#x27; ? JSON.stringify(feature) : feature;\n",
       "    let fields = [&quot;OBJECTID&quot;, &quot;CHANGE_NUM&quot;, &quot;MINOR_CHAN&quot;, &quot;ACCESSIBIL&quot;, &quot;ACCESSORY_&quot;, &quot;STOP_ID&quot;, &quot;TRANS_LINK&quot;, &quot;STOP_STATU&quot;, &quot;STOP_TYPE&quot;, &quot;AUTH_CODE&quot;, &quot;AUTH_NAME&quot;, &quot;TRF_DISTRI&quot;, &quot;AWNING&quot;, &quot;BAY_CODE&quot;, &quot;BEARING_CO&quot;, &quot;BIKE_RACK&quot;, &quot;CURB&quot;, &quot;CURB_HEIGH&quot;, &quot;CURBPAINT&quot;, &quot;CURBPAINTL&quot;, &quot;CURRENT_NE&quot;, &quot;CF_CROSS_S&quot;, &quot;CF_DIST_FR&quot;, &quot;CF_INTERSE&quot;, &quot;DATE_CREAT&quot;, &quot;DATE_LAST_&quot;, &quot;DB_MOD_DAT&quot;, &quot;DIST_FROM_&quot;, &quot;EFFECTIVE_&quot;, &quot;FARE_ZONE&quot;, &quot;FRDOORLAND&quot;, &quot;FRDOORSIDE&quot;, &quot;HASTUS_CRO&quot;, &quot;IMT_CONNEC&quot;, &quot;IN_SERVICE&quot;, &quot;INFOSIGN_A&quot;, &quot;INFOSIGN&quot;, &quot;INTERSECTI&quot;, &quot;JURISDICTI&quot;, &quot;KCM_MANAGE&quot;, &quot;XCOORD&quot;, &quot;XCOORD_OFF&quot;, &quot;YCOORD&quot;, &quot;YCOORD_OFF&quot;, &quot;ZIPCODE&quot;, &quot;ROUTE_LIST&quot;, &quot;ON_STREET_&quot;, &quot;ROUTESIGN&quot;, &quot;ROUTESIGN_&quot;, &quot;SIGN_MOUNT&quot;, &quot;SIGNPOST&quot;, &quot;SIGNPOST_A&quot;, &quot;SCHEDULE_H&quot;, &quot;NUM_SHELTE&quot;, &quot;GISOBJID&quot;, &quot;DISPLACEME&quot;];\n",
       "    let aliases = [&quot;OBJECTID&quot;, &quot;CHANGE_NUM&quot;, &quot;MINOR_CHAN&quot;, &quot;ACCESSIBIL&quot;, &quot;ACCESSORY_&quot;, &quot;STOP_ID&quot;, &quot;TRANS_LINK&quot;, &quot;STOP_STATU&quot;, &quot;STOP_TYPE&quot;, &quot;AUTH_CODE&quot;, &quot;AUTH_NAME&quot;, &quot;TRF_DISTRI&quot;, &quot;AWNING&quot;, &quot;BAY_CODE&quot;, &quot;BEARING_CO&quot;, &quot;BIKE_RACK&quot;, &quot;CURB&quot;, &quot;CURB_HEIGH&quot;, &quot;CURBPAINT&quot;, &quot;CURBPAINTL&quot;, &quot;CURRENT_NE&quot;, &quot;CF_CROSS_S&quot;, &quot;CF_DIST_FR&quot;, &quot;CF_INTERSE&quot;, &quot;DATE_CREAT&quot;, &quot;DATE_LAST_&quot;, &quot;DB_MOD_DAT&quot;, &quot;DIST_FROM_&quot;, &quot;EFFECTIVE_&quot;, &quot;FARE_ZONE&quot;, &quot;FRDOORLAND&quot;, &quot;FRDOORSIDE&quot;, &quot;HASTUS_CRO&quot;, &quot;IMT_CONNEC&quot;, &quot;IN_SERVICE&quot;, &quot;INFOSIGN_A&quot;, &quot;INFOSIGN&quot;, &quot;INTERSECTI&quot;, &quot;JURISDICTI&quot;, &quot;KCM_MANAGE&quot;, &quot;XCOORD&quot;, &quot;XCOORD_OFF&quot;, &quot;YCOORD&quot;, &quot;YCOORD_OFF&quot;, &quot;ZIPCODE&quot;, &quot;ROUTE_LIST&quot;, &quot;ON_STREET_&quot;, &quot;ROUTESIGN&quot;, &quot;ROUTESIGN_&quot;, &quot;SIGN_MOUNT&quot;, &quot;SIGNPOST&quot;, &quot;SIGNPOST_A&quot;, &quot;SCHEDULE_H&quot;, &quot;NUM_SHELTE&quot;, &quot;GISOBJID&quot;, &quot;DISPLACEME&quot;];\n",
       "    let table = &#x27;&lt;table&gt;&#x27; +\n",
       "        String(\n",
       "        fields.map(\n",
       "        (v,i)=&gt;\n",
       "        `&lt;tr&gt;\n",
       "            &lt;th&gt;${aliases[i]}&lt;/th&gt;\n",
       "            \n",
       "            &lt;td&gt;${handleObject(layer.feature.properties[v])}&lt;/td&gt;\n",
       "        &lt;/tr&gt;`).join(&#x27;&#x27;))\n",
       "    +&#x27;&lt;/table&gt;&#x27;;\n",
       "    div.innerHTML=table;\n",
       "    \n",
       "    return div\n",
       "    }\n",
       "    ,{\n",
       "  &quot;sticky&quot;: true,\n",
       "  &quot;className&quot;: &quot;foliumtooltip&quot;,\n",
       "});\n",
       "                     \n",
       "    \n",
       "            geo_json_5eda536c0e3caedd67a62ac0c4ceaabf.addTo(map_3d6cbe2843dfd703e472d35abe0d69c5);\n",
       "        \n",
       "&lt;/script&gt;\n",
       "&lt;/html&gt;\" style=\"position:absolute;width:100%;height:100%;left:0;top:0;border:none !important;\" allowfullscreen webkitallowfullscreen mozallowfullscreen></iframe></div></div>"
      ],
      "text/plain": [
       "<folium.folium.Map at 0x201e0a91450>"
      ]
     },
     "execution_count": 30,
     "metadata": {},
     "output_type": "execute_result"
    }
   ],
   "source": [
    "e_line_northbound_stops.explore(m = shift_map)"
   ]
  },
  {
   "cell_type": "code",
   "execution_count": null,
   "id": "23ac4fbd-61b6-497a-abfd-09c2e00e9626",
   "metadata": {},
   "outputs": [],
   "source": []
  }
 ],
 "metadata": {
  "kernelspec": {
   "display_name": "Python 3 (ipykernel)",
   "language": "python",
   "name": "python3"
  },
  "language_info": {
   "codemirror_mode": {
    "name": "ipython",
    "version": 3
   },
   "file_extension": ".py",
   "mimetype": "text/x-python",
   "name": "python",
   "nbconvert_exporter": "python",
   "pygments_lexer": "ipython3",
   "version": "3.13.3"
  }
 },
 "nbformat": 4,
 "nbformat_minor": 5
}
