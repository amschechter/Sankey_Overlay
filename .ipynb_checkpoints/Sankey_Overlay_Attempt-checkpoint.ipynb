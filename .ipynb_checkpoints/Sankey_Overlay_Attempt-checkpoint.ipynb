{
 "cells": [
  {
   "cell_type": "markdown",
   "id": "c515f8cc-38bd-49dd-acda-e8c3aeb8f3cd",
   "metadata": {},
   "source": [
    "#### Gonna try something epic here\n",
    "\n",
    "My idea is to create a function/script/ability to overlay a sankey diagram over a bus route to represent the ons/offs and current passenger load, all while being displayed on the map. Hopefully would include hover/tooltip capabilities as well. IDK really how I will start but heres to trying"
   ]
  },
  {
   "cell_type": "markdown",
   "id": "067c1903-bd13-4e18-938f-4ec2e9802e65",
   "metadata": {},
   "source": [
    "I will try initially to use the E line to do this. I already have the segment data which will be helpful but the main reason I am using the eline data is that it is mostly straight!! This will help as I am developing for a few reasons."
   ]
  },
  {
   "cell_type": "code",
   "execution_count": null,
   "id": "aaba5594-885d-4191-a612-378df557abf9",
   "metadata": {},
   "outputs": [],
   "source": [
    "### Gonna start with the imports. Nothing weird don't freak out.\n",
    "import pandas as pd\n",
    "import geopandas as gpd\n",
    "import numpy as np\n",
    "\n",
    "import folium\n",
    "import json\n",
    "\n",
    "pd.set_option('display.max_columns', None) ### This line makes all the columns display, rather than ellipses shorten"
   ]
  },
  {
   "cell_type": "code",
   "execution_count": null,
   "id": "6874a700-9371-4281-975b-9e32c912dbc8",
   "metadata": {},
   "outputs": [],
   "source": [
    "### import the e line data with segments\n",
    "\n",
    "kcm_segment_data = \"C:/Users/aaron/CoreGIS_Work/CoreGIS Work Sync/COREGIS_work/RapidRide E/Data/Source/Transit_Routes_for_King_County_Metro___transitroute_line\"\n",
    "kcm_point_data = \"C:/Users/aaron/CoreGIS_Work/CoreGIS Work Sync/COREGIS_work/RapidRide E/Data/Source/Transit_Stops_for_King_County_Metro___transitstop_point\"\n",
    "\n",
    "all_kcm_segment_data = gpd.read_file(kcm_segment_data)\n",
    "all_kcm_point_data = gpd.read_file(kcm_point_data)\n"
   ]
  },
  {
   "cell_type": "code",
   "execution_count": null,
   "id": "0b63eff7-1ce1-4547-824e-4a9727265cb9",
   "metadata": {},
   "outputs": [],
   "source": [
    "### compiling a list of stops that I will use for this experiment. Mostly in a straight line and not too many of them.\n",
    "e_line_northbound_stop_list = [7690, 7710, 7730, 7750, 7770, 7790, 7810, 7850]\n",
    "\n",
    "e_line_northbound_stops = all_kcm_point_data[all_kcm_point_data['STOP_ID'].isin(e_line_northbound_stop_list)]\n",
    "e_line_northbound_stops = e_line_northbound_stops[e_line_northbound_stops['CURRENT_NE'] == 'IN SERVICE'] ## eliminating 3X stops\n"
   ]
  },
  {
   "cell_type": "code",
   "execution_count": null,
   "id": "d96033c4-9c71-40f5-be60-6538152a3130",
   "metadata": {},
   "outputs": [],
   "source": [
    "e_line_full_segment = all_kcm_segment_data[all_kcm_segment_data['ROUTE_NUM'] == 675] ##675 is the E line's route number"
   ]
  },
  {
   "cell_type": "code",
   "execution_count": null,
   "id": "c52cc01f-d1f2-4415-96b4-e2ed0a2a7a30",
   "metadata": {},
   "outputs": [],
   "source": [
    "e_line_northbound_stops.explore()"
   ]
  },
  {
   "cell_type": "markdown",
   "id": "2a9f6a27-c9fa-49e6-82e9-e57aad357205",
   "metadata": {},
   "source": [
    "### Ridership data stuffs"
   ]
  },
  {
   "cell_type": "code",
   "execution_count": null,
   "id": "4dfc518e-8be0-4cd6-adb1-327e2c6a8f78",
   "metadata": {},
   "outputs": [],
   "source": [
    "### gonnna fabricate some data about the ons/offs/avg departing load. This isn't about reflecting reality at the current moment\n",
    "## Stop list, south to north --> [7690, 7710, 7730, 7750, 7770, 7790, 7810, 7850]\n",
    "\n",
    "##completely made up\n",
    "## starting_stop_num: [boardings, alightings]\n",
    "\n",
    "#type = dict\n",
    "ridership_data = {\n",
    "    7690: [12, 0],\n",
    "    7710: [14, 6],\n",
    "    7730: [13, 2],\n",
    "    7750: [5, 20],\n",
    "    7770: [8, 6],\n",
    "    7790: [10, 14],\n",
    "    7810: [3, 6],\n",
    "    7850: [2, 3]\n",
    "}\n",
    "\n"
   ]
  },
  {
   "cell_type": "code",
   "execution_count": null,
   "id": "b0116670-3296-4581-aab6-90b1c5f2645d",
   "metadata": {},
   "outputs": [],
   "source": [
    "### This cell calculates the departing load from every stop!\n",
    "departing_load = 0\n",
    "\n",
    "for stop_num in ridership_data.keys():    \n",
    "    current_boardings = ridership_data[stop_num][0]\n",
    "    current_alightings = ridership_data[stop_num][1]\n",
    "\n",
    "    departing_load = departing_load + current_boardings - current_alightings\n",
    "\n",
    "    ridership_data[stop_num].append(departing_load)\n",
    "    #print (f\"stop_num - {stop_num}, current_boardings - {current_boardings}, current_alightings - {current_alightings}, departing_load - {departing_load}\")"
   ]
  },
  {
   "cell_type": "markdown",
   "id": "5da79366-4e1b-4b0e-bc60-28361cadb242",
   "metadata": {},
   "source": [
    "### Now its time to try and draw a line between each stop"
   ]
  },
  {
   "cell_type": "code",
   "execution_count": null,
   "id": "0a85a74f-34ae-4034-a28d-d38447ab814d",
   "metadata": {},
   "outputs": [],
   "source": [
    "### make a function enabling the #shortest_line function to work with just two points.\n",
    "\n",
    "def shortest_line_between(geom1, geom2):\n",
    "    return gpd.GeoSeries([geom1]).shortest_line(gpd.GeoSeries([geom2])).iloc[0]\n"
   ]
  },
  {
   "cell_type": "code",
   "execution_count": null,
   "id": "a9f92568-4684-4f77-ae13-d088fe09355f",
   "metadata": {},
   "outputs": [],
   "source": [
    "### generate a list of stops \n",
    "stop_geometry_dict = {}\n",
    "for i in range(len(ridership_data.keys())):\n",
    "    stop_geometry_dict[f\"stop_number_{i+1}_geo\"] = e_line_northbound_stops.iloc[i]['geometry']"
   ]
  },
  {
   "cell_type": "code",
   "execution_count": null,
   "id": "90cf7f63-0baf-4edc-a9de-98f1a8056564",
   "metadata": {},
   "outputs": [],
   "source": [
    "#segment_dictionary\n",
    "\n",
    "num_stops = len(stop_geometry_dict)\n",
    "\n",
    "segment_dict = {}\n",
    "\n",
    "for j in range(0, num_stops-1):\n",
    "    segment_dict[f\"segment_{j+1}\"] = shortest_line_between(stop_geometry_dict[f\"stop_number_{j+1}_geo\"], stop_geometry_dict[f\"stop_number_{j+2}_geo\"])"
   ]
  },
  {
   "cell_type": "code",
   "execution_count": null,
   "id": "4ae3303b-5dfe-4c1e-aba8-2ecde8af6eda",
   "metadata": {},
   "outputs": [],
   "source": [
    "ridership_data[7770][2]"
   ]
  },
  {
   "cell_type": "code",
   "execution_count": null,
   "id": "ac3ce7c3-e931-40aa-82a4-ea2d8d0fe825",
   "metadata": {},
   "outputs": [],
   "source": [
    "num_segments = len(segment_dict)\n",
    "\n",
    "segment_gdf = gpd.GeoDataFrame(\n",
    "                                {'starting_stop_id': e_line_northbound_stop_list[:num_segments],\n",
    "                                'ridership_data_dict':[ridership_data[stop_id] for stop_id in e_line_northbound_stop_list[:num_segments]],\n",
    "                                'geometry': [segment_dict[f\"segment_{id + 1}\"] for id in range(num_segments)]},\n",
    "                                geometry = 'geometry', crs = \"EPSG:2926\"\n",
    "                              )\n"
   ]
  },
  {
   "cell_type": "code",
   "execution_count": null,
   "id": "ded8cda7-ccc8-4fcb-bf7e-f65bc85abecb",
   "metadata": {},
   "outputs": [],
   "source": [
    "segment_gdf"
   ]
  },
  {
   "cell_type": "code",
   "execution_count": null,
   "id": "32428d7c-9dae-4d4b-b1bb-a7000418dd2e",
   "metadata": {},
   "outputs": [],
   "source": [
    "avg_ons_list = []\n",
    "avg_offs_list = []\n",
    "avg_load_list = []\n",
    "\n",
    "for i in range(len(segment_gdf)):\n",
    "    value_trio = segment_gdf['ridership_data_dict'][i]\n",
    "    avg_ons_list.append(value_trio[0])\n",
    "    avg_offs_list.append(value_trio[1])\n",
    "    avg_load_list.append(value_trio[2])\n",
    "\n",
    "\n"
   ]
  },
  {
   "cell_type": "code",
   "execution_count": null,
   "id": "cd53b568-1489-4472-ba0a-4f07c3139b31",
   "metadata": {},
   "outputs": [],
   "source": [
    "segment_gdf[\"boardings\"] = avg_ons_list\n",
    "segment_gdf[\"alightings\"] = avg_offs_list\n",
    "segment_gdf[\"departing_load\"] = avg_load_list"
   ]
  },
  {
   "cell_type": "code",
   "execution_count": null,
   "id": "db9f1a32-eefc-4151-a8d1-cdd7e031173e",
   "metadata": {},
   "outputs": [],
   "source": [
    "segment_gdf"
   ]
  },
  {
   "cell_type": "markdown",
   "id": "445e1e9a-69fa-4577-8d2f-ad51797015fd",
   "metadata": {},
   "source": [
    "### Ok Now the GDF is sorta done..... lets make a map!!"
   ]
  },
  {
   "cell_type": "code",
   "execution_count": null,
   "id": "035dc346-30dc-4eba-b927-1c945ee0a3cf",
   "metadata": {},
   "outputs": [],
   "source": [
    "def style_function(gdf):\n",
    "    width_val = gdf[\"departing_load\"]\n",
    "    return {\n",
    "        \"weight\": width_val\n",
    "    }"
   ]
  },
  {
   "cell_type": "code",
   "execution_count": null,
   "id": "7b072187-2d73-4814-ac62-3ac337e60787",
   "metadata": {},
   "outputs": [],
   "source": [
    "def style_function_simple(gdf):\n",
    "    return {\n",
    "        'color': 'orange'\n",
    "    }"
   ]
  },
  {
   "cell_type": "code",
   "execution_count": null,
   "id": "5e6131b5-7c7d-4827-9295-5081c1c64739",
   "metadata": {},
   "outputs": [],
   "source": [
    "segment_gdf = segment_gdf.set_crs(4326, allow_override=True)"
   ]
  },
  {
   "cell_type": "code",
   "execution_count": null,
   "id": "e8f8704c-474a-4638-b6f2-ece26e3fa3c8",
   "metadata": {},
   "outputs": [],
   "source": [
    "m = folium.Map(location=[47.684389, -122.344733], zoom_start=14, tiles=\"cartodb positron\", CRS='EPSG:4326')\n",
    "geojson_data = json.loads(segment_gdf.to_json())\n",
    "\n",
    "print (type(geojson_data))\n",
    "\n",
    "folium.GeoJson(\n",
    "    geojson_data\n",
    "    #style_function=style_function_simple\n",
    "    #tooltip=folium.GeoJsonTooltip(fields=[\"width\"])\n",
    ").add_to(m)"
   ]
  },
  {
   "cell_type": "code",
   "execution_count": null,
   "id": "19d5c715-effd-4fe7-b229-ed65eaefd381",
   "metadata": {},
   "outputs": [],
   "source": [
    "m"
   ]
  },
  {
   "cell_type": "code",
   "execution_count": null,
   "id": "537ade21-c485-4453-a31d-a47118d8f58d",
   "metadata": {},
   "outputs": [],
   "source": [
    "#segment_gdf.explore(tiles = \"CartoDB Positron\", style_kwds={'weight': segment_gdf['departing_load']})\n",
    "#segment_gdf.explore(tiles = \"CartoDB Positron\", style_kwds=style_function(segment_gdf))"
   ]
  },
  {
   "cell_type": "code",
   "execution_count": null,
   "id": "42b16edb-69f0-4d3a-a739-504faab17fdc",
   "metadata": {},
   "outputs": [],
   "source": [
    "#segment_gdf.explore(column = 'departing_load', tiles = \"CartoDB Positron\", style_kwds={\n",
    "#        'color': 'blue',  # Line color\n",
    "  #      'weight': 5,      # Line width (in pixels)\n",
    "  #      'opacity': 0.8    # Line opacity\n",
    "   # })"
   ]
  },
  {
   "cell_type": "markdown",
   "id": "4912885c-67a9-4fdf-b4a4-36290fd81e9f",
   "metadata": {},
   "source": [
    "# GAP HERE"
   ]
  },
  {
   "cell_type": "code",
   "execution_count": null,
   "id": "727be753-2ae6-4f85-96ec-8ea300c4d1a5",
   "metadata": {},
   "outputs": [],
   "source": []
  },
  {
   "cell_type": "code",
   "execution_count": null,
   "id": "9704d5b7-8a41-4b11-82ff-717d2d662db0",
   "metadata": {},
   "outputs": [],
   "source": []
  },
  {
   "cell_type": "code",
   "execution_count": null,
   "id": "8cf56fa2-8008-44e8-b92e-9dfab1f736e6",
   "metadata": {},
   "outputs": [],
   "source": []
  }
 ],
 "metadata": {
  "kernelspec": {
   "display_name": "Python 3 (ipykernel)",
   "language": "python",
   "name": "python3"
  },
  "language_info": {
   "codemirror_mode": {
    "name": "ipython",
    "version": 3
   },
   "file_extension": ".py",
   "mimetype": "text/x-python",
   "name": "python",
   "nbconvert_exporter": "python",
   "pygments_lexer": "ipython3",
   "version": "3.13.3"
  }
 },
 "nbformat": 4,
 "nbformat_minor": 5
}
